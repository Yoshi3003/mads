{
 "cells": [
  {
   "cell_type": "markdown",
   "metadata": {
    "deletable": false,
    "editable": false,
    "nbgrader": {
     "checksum": "1907144f7fe105fe8f374d0a0071d1ba",
     "grade": false,
     "grade_id": "cell-cba503ee6ed424e1",
     "locked": true,
     "schema_version": 1,
     "solution": false
    }
   },
   "source": [
    "# SIDAS502: Math Methods for Data Science \n",
    "\n",
    "\n",
    "# School of Information, University of Michigan\n",
    "\n",
    "\n",
    "## Week 4: Probability/Bayes Rule/Maximum likelihood \n",
    "\n",
    "### Version 1.1\n",
    "\n",
    "This assignment is designed to refresh probability skills as well as apply probability in the context of Bayes' Theorem, and maximum likelihood for linear and logistic regression. Please read the directions carefully, as we want to avoid submissions that are marked incorrect due to formatting mistakes. \n",
    "\n",
    "Include the following code at the beginning of your assignment:\n",
    "- from sklearn.model_selection import train_test_split\n",
    "- from sklearn.linear_model import LogisticRegression\n",
    "- from sklearn.metrics import classification_report, confusion_matrix\n",
    "- import pandas as pd\n",
    "- import numpy as np"
   ]
  },
  {
   "cell_type": "markdown",
   "metadata": {},
   "source": [
    "Plese enter your name =\"Jitrapon Tiachunpun\""
   ]
  },
  {
   "cell_type": "markdown",
   "metadata": {
    "deletable": false,
    "editable": false,
    "nbgrader": {
     "checksum": "a233d87c99ddb7a8325f1d0bdec5b3fc",
     "grade": false,
     "grade_id": "cell-e2388f80f2bfa35e",
     "locked": true,
     "schema_version": 1,
     "solution": false
    }
   },
   "source": [
    "## 1. Probability"
   ]
  },
  {
   "cell_type": "markdown",
   "metadata": {
    "deletable": false,
    "editable": false,
    "nbgrader": {
     "checksum": "832ee4884cd7497bef7bc0e7f978040e",
     "grade": false,
     "grade_id": "cell-cbdb2f38375ebce9",
     "locked": true,
     "schema_version": 1,
     "solution": false
    }
   },
   "source": [
    "<strong>1.1</strong> \\[1 pt\\] A college is looking to form a team of 8 to participate in a coding compeition. The team needs at least 2 females and 2 males. If there are 4 males and 7 females who want to join the competition, how many different ways can the team be formed? Please store your answer as an integer (e.g. ANS1 = 1) into the variable <strong>ANS1</strong>."
   ]
  },
  {
   "cell_type": "code",
   "execution_count": 1,
   "metadata": {
    "deletable": false,
    "nbgrader": {
     "checksum": "2240dac7ec8f972d8389fde2fd096edc",
     "grade": false,
     "grade_id": "cell-ee2bd7ab2781aa26",
     "locked": false,
     "schema_version": 1,
     "solution": true
    },
    "pycharm": {
     "is_executing": false
    }
   },
   "outputs": [
    {
     "data": {
      "text/plain": [
       "161"
      ]
     },
     "execution_count": 1,
     "metadata": {},
     "output_type": "execute_result"
    }
   ],
   "source": [
    "import math \n",
    "import numpy as np\n",
    "import numbers\n",
    "\n",
    "def nCr(n,r):\n",
    "    f = math.factorial\n",
    "    return f(n) / f(r) / f(n-r)\n",
    "\n",
    "\n",
    "ANS1=int((nCr(4, 2) * nCr(7, 6)) + (nCr(4, 3) * nCr(7, 5)) + (nCr(4, 4) * nCr(7, 4)))\n",
    "ANS1"
   ]
  },
  {
   "cell_type": "code",
   "execution_count": 2,
   "metadata": {
    "deletable": false,
    "editable": false,
    "nbgrader": {
     "checksum": "825c48e8b66d85112a883aee1ebb7def",
     "grade": true,
     "grade_id": "cell-2380314f88f56d22",
     "locked": true,
     "points": 1,
     "schema_version": 1,
     "solution": false
    }
   },
   "outputs": [],
   "source": [
    "assert type(ANS1) == int, \"Problem 1.1, testing ANS1, type of value stored in variable does not match the expected type. Expecting Integer\""
   ]
  },
  {
   "cell_type": "markdown",
   "metadata": {
    "deletable": false,
    "editable": false,
    "nbgrader": {
     "checksum": "d2010e5da278cd5e119a797f9b8cd6e6",
     "grade": false,
     "grade_id": "cell-60e86babc0baaefd",
     "locked": true,
     "schema_version": 1,
     "solution": false
    }
   },
   "source": [
    "## 2. Conditional Probability"
   ]
  },
  {
   "cell_type": "markdown",
   "metadata": {
    "deletable": false,
    "editable": false,
    "nbgrader": {
     "checksum": "e15356d29be1a2e3d3cea8c6b6f7caf0",
     "grade": false,
     "grade_id": "cell-64709019ea754f4d",
     "locked": true,
     "schema_version": 1,
     "solution": false
    }
   },
   "source": [
    "At a school, 40% of the students speak Spanish, 25% of the students speak German, and 15% of the students speak both of the langugues. Now, randomly pick a student. \n",
    "\n",
    "<strong>2.1</strong> \\[1 pt\\] Given that they speak Spanish, what is the probability that they also speak German? Store your answer in the variable <strong>ANS21</strong>.  For grading (on this and future problems) store the answer as accurately as possible using standard python data types.  For example, if the answer is 1/3, set ANS2 = 1/3 instead of .3333."
   ]
  },
  {
   "cell_type": "code",
   "execution_count": 3,
   "metadata": {
    "deletable": false,
    "nbgrader": {
     "checksum": "8ad6aec386bc07aebe54d9ffbe59787c",
     "grade": false,
     "grade_id": "cell-8566435eee91457e",
     "locked": false,
     "schema_version": 1,
     "solution": true
    }
   },
   "outputs": [],
   "source": [
    "ANS21 = 0.15/0.40"
   ]
  },
  {
   "cell_type": "code",
   "execution_count": 4,
   "metadata": {
    "deletable": false,
    "editable": false,
    "nbgrader": {
     "checksum": "9f2150c071f708f172aa634f6fd5f752",
     "grade": true,
     "grade_id": "cell-557a697b7229071a",
     "locked": true,
     "points": 1,
     "schema_version": 1,
     "solution": false
    }
   },
   "outputs": [],
   "source": [
    "assert isinstance(ANS21, numbers.Number), \"Problem 2.1, testing ANS21, type of value stored in variable does not match the expected type. Expecting Float.\""
   ]
  },
  {
   "cell_type": "markdown",
   "metadata": {
    "deletable": false,
    "editable": false,
    "nbgrader": {
     "checksum": "951e4f8e63c2b75d3734536b81f55ee4",
     "grade": false,
     "grade_id": "cell-dee377764f1c9eb2",
     "locked": true,
     "schema_version": 1,
     "solution": false
    }
   },
   "source": [
    "<strong>2.2</strong> \\[1 pt\\] Given that they do not speak German, what is the probability that they speak Spanish? Store answer in variable <strong>ANS22</strong>.  "
   ]
  },
  {
   "cell_type": "code",
   "execution_count": 5,
   "metadata": {
    "deletable": false,
    "nbgrader": {
     "checksum": "5462629b7f657a967ef01589ddef6610",
     "grade": false,
     "grade_id": "cell-d8a6247556748dcc",
     "locked": false,
     "schema_version": 1,
     "solution": true
    },
    "pycharm": {
     "is_executing": false
    }
   },
   "outputs": [],
   "source": [
    "ANS22=0.25/0.75"
   ]
  },
  {
   "cell_type": "code",
   "execution_count": 6,
   "metadata": {
    "deletable": false,
    "editable": false,
    "nbgrader": {
     "checksum": "a36cbe537bed9da815b48240ca6be506",
     "grade": true,
     "grade_id": "cell-0c3c06d832ee2f42",
     "locked": true,
     "points": 1,
     "schema_version": 1,
     "solution": false
    },
    "pycharm": {
     "is_executing": false
    }
   },
   "outputs": [],
   "source": [
    "assert isinstance(ANS22, numbers.Number), \"Problem 2.2, testing ANS22, type of value stored in variable does not match the expected type. Expecting Float.\""
   ]
  },
  {
   "cell_type": "markdown",
   "metadata": {
    "deletable": false,
    "editable": false,
    "nbgrader": {
     "checksum": "62717298c5150a9af5ab46494bf5705a",
     "grade": false,
     "grade_id": "cell-59bcfa438bc13995",
     "locked": true,
     "schema_version": 1,
     "solution": false
    }
   },
   "source": [
    "## 3. Independent Probability "
   ]
  },
  {
   "cell_type": "markdown",
   "metadata": {
    "deletable": false,
    "editable": false,
    "nbgrader": {
     "checksum": "26b03ea528914cfe75880237c26b3d59",
     "grade": false,
     "grade_id": "cell-dd385e7b09d20bde",
     "locked": true,
     "schema_version": 1,
     "solution": false
    }
   },
   "source": [
    "Tom and Lily are trying to solve a problem. The probability of Tom successfully solving the problem is 0.4 and the probability of Lily successfully solving the problem is 0.5. They do not influence each other when they are solving the problem. For each solution, store the value as accurately as you can (ex. ANS = 2/9 instead of .2222).\n",
    "\n",
    "<strong>3.1</strong> \\[1 pt\\] What is the probability that both of them sucessfully solve the problem? Please store your answer to the variable <strong>ANS31</strong>."
   ]
  },
  {
   "cell_type": "code",
   "execution_count": 7,
   "metadata": {
    "deletable": false,
    "nbgrader": {
     "checksum": "8f1edea9d859df22fb5d69298d91c28a",
     "grade": false,
     "grade_id": "cell-a89dfc965132afad",
     "locked": false,
     "schema_version": 1,
     "solution": true
    }
   },
   "outputs": [],
   "source": [
    "ANS31 = 0.4 * 0.5"
   ]
  },
  {
   "cell_type": "code",
   "execution_count": 8,
   "metadata": {
    "deletable": false,
    "editable": false,
    "nbgrader": {
     "checksum": "698dd2149f28533822e96356157b6e05",
     "grade": true,
     "grade_id": "cell-4d4bf277ef89e5a1",
     "locked": true,
     "points": 1,
     "schema_version": 1,
     "solution": false
    }
   },
   "outputs": [],
   "source": [
    "assert isinstance(ANS31, numbers.Number), \"Problem 3.1, testing ANS31, type of value stored in variable does not match the expected type. Expecting Float.\""
   ]
  },
  {
   "cell_type": "markdown",
   "metadata": {
    "deletable": false,
    "editable": false,
    "nbgrader": {
     "checksum": "99a5fff2584f2f1275f86ea8f223a6b6",
     "grade": false,
     "grade_id": "cell-71bb140cdec6a3a6",
     "locked": true,
     "schema_version": 1,
     "solution": false
    }
   },
   "source": [
    "<strong>3.2</strong> \\[1 pt\\] What is the probability that only one of them successfully solves the problem? Please store your answer to the variable <strong>ANS32</strong>. "
   ]
  },
  {
   "cell_type": "code",
   "execution_count": 9,
   "metadata": {
    "deletable": false,
    "nbgrader": {
     "checksum": "7762a760700f3a291757b8704d6ce41c",
     "grade": false,
     "grade_id": "cell-e55df99dc649e767",
     "locked": false,
     "schema_version": 1,
     "solution": true
    }
   },
   "outputs": [],
   "source": [
    "ANS32=0.4 + 0.5 - 2 * ANS31"
   ]
  },
  {
   "cell_type": "code",
   "execution_count": 10,
   "metadata": {
    "deletable": false,
    "editable": false,
    "nbgrader": {
     "checksum": "6e514c26da767fc080cf665a0ab20180",
     "grade": true,
     "grade_id": "cell-04bf980d4b26a9f0",
     "locked": true,
     "points": 1,
     "schema_version": 1,
     "solution": false
    }
   },
   "outputs": [],
   "source": [
    "assert isinstance(ANS32, numbers.Number), \"Problem 3.2, testing ANS32, type of value stored in variable does not match the expected type. Expecting Float.\""
   ]
  },
  {
   "cell_type": "markdown",
   "metadata": {
    "deletable": false,
    "editable": false,
    "nbgrader": {
     "checksum": "19d2177bc38b6b1a9781db41e4afbfab",
     "grade": false,
     "grade_id": "cell-2a79ba0a2e386a2d",
     "locked": true,
     "schema_version": 1,
     "solution": false
    }
   },
   "source": [
    "<strong>3.3</strong> \\[1 pt\\] Given that **only** one of them successfully solved the problem, what is the probability that the person is Tom?\n",
    "Please store your answer to the variable <strong>ANS33</strong>. "
   ]
  },
  {
   "cell_type": "code",
   "execution_count": 11,
   "metadata": {
    "deletable": false,
    "nbgrader": {
     "checksum": "c40dbd165a8b611df4918711290eddfe",
     "grade": false,
     "grade_id": "cell-9cd919f33acab2ef",
     "locked": false,
     "schema_version": 1,
     "solution": true
    }
   },
   "outputs": [],
   "source": [
    "ANS33 = (ANS32 * 0.4) / ANS32"
   ]
  },
  {
   "cell_type": "code",
   "execution_count": 12,
   "metadata": {
    "deletable": false,
    "editable": false,
    "nbgrader": {
     "checksum": "c11dc24b1e5b05722a65999d0331049c",
     "grade": true,
     "grade_id": "cell-9beab75a7dab793d",
     "locked": true,
     "points": 1,
     "schema_version": 1,
     "solution": false
    }
   },
   "outputs": [],
   "source": [
    "assert isinstance(ANS33, numbers.Number), \"Problem 3.3, testing ANS33, type of value stored in variable does not match the expected type. Expecting Float.\""
   ]
  },
  {
   "cell_type": "markdown",
   "metadata": {
    "deletable": false,
    "editable": false,
    "nbgrader": {
     "checksum": "21719e1c94c34b9306bc49acfb9957bd",
     "grade": false,
     "grade_id": "cell-d6fec34d29792320",
     "locked": true,
     "schema_version": 1,
     "solution": false
    }
   },
   "source": [
    "## 4. Bayes Rule"
   ]
  },
  {
   "cell_type": "markdown",
   "metadata": {
    "deletable": false,
    "editable": false,
    "nbgrader": {
     "checksum": "6daef199c6ad6584a88dc76c80815ec3",
     "grade": false,
     "grade_id": "cell-3f3407378ca208c3",
     "locked": true,
     "schema_version": 1,
     "solution": false
    }
   },
   "source": [
    "Suppose that you are an art dealer for Van Gogh paintings. Whenever someone brings in a painting that they claim is from Van Gogh, you send in the painting for pigment analysis. Pigment analysis successfully identifies 90% of Van Gogh paintings and falsely identifies 20% of forgeries as being from Van Gogh. In your experience, 99% of the paintings that people bring to you are forgeries.\n",
    "\n",
    "<strong>4.1</strong> \\[1 pt\\] Use Bayes theorem to calculate the chance that a painting is from Van Gogh if the pigment analysis finds that it is from Van Gogh. Store your answer in the variable <strong>ANS41</strong> as accurately as possible."
   ]
  },
  {
   "cell_type": "code",
   "execution_count": 13,
   "metadata": {
    "deletable": false,
    "nbgrader": {
     "checksum": "193b6d613cb76513b01a3c92202ba7cf",
     "grade": false,
     "grade_id": "cell-f68142d6a4ebf595",
     "locked": false,
     "schema_version": 1,
     "solution": true
    }
   },
   "outputs": [
    {
     "data": {
      "text/plain": [
       "0.04347826086956522"
      ]
     },
     "execution_count": 13,
     "metadata": {},
     "output_type": "execute_result"
    }
   ],
   "source": [
    "ANS41 = (0.90 * 0.01) / (2070 / 10000)\n",
    "ANS41"
   ]
  },
  {
   "cell_type": "code",
   "execution_count": 14,
   "metadata": {
    "deletable": false,
    "editable": false,
    "nbgrader": {
     "checksum": "cd6c3c6a330468f5abde7c107be73360",
     "grade": true,
     "grade_id": "cell-c32efd59d0bc94f7",
     "locked": true,
     "points": 1,
     "schema_version": 1,
     "solution": false
    }
   },
   "outputs": [],
   "source": [
    "assert isinstance(ANS41, numbers.Number), \"Problem 4.1, testing ANS41, type of value stored in variable does not match the expected type. Expecting Float.\""
   ]
  },
  {
   "cell_type": "markdown",
   "metadata": {
    "deletable": false,
    "editable": false,
    "nbgrader": {
     "checksum": "b83a820e57bbd4763e1020a255e690b4",
     "grade": false,
     "grade_id": "cell-7c6827c647ad8a8d",
     "locked": true,
     "schema_version": 1,
     "solution": false
    }
   },
   "source": [
    "## 5. Maximum Likelihood in Linear Regression"
   ]
  },
  {
   "cell_type": "markdown",
   "metadata": {
    "deletable": false,
    "editable": false,
    "hideOutput": true,
    "nbgrader": {
     "checksum": "ade7d359b3b3f97236b1aba3206038b5",
     "grade": false,
     "grade_id": "cell-388a8b8a575b11cc",
     "locked": true,
     "schema_version": 1,
     "solution": false
    }
   },
   "source": [
    "Let's say we have serveral data points: (2, 4.5, 8), and we know they are from a normal (Gaussian) distribution. "
   ]
  },
  {
   "cell_type": "markdown",
   "metadata": {
    "deletable": false,
    "editable": false,
    "nbgrader": {
     "checksum": "b6b6b0d1f786ecd1e54a849b354eea5b",
     "grade": false,
     "grade_id": "cell-a09180072e03ee93",
     "locked": true,
     "schema_version": 1,
     "solution": false
    }
   },
   "source": [
    "<strong>5.1</strong> \\[1 pt\\] Let's start by assuming some values for $\\mu$ and $\\sigma$. What is the likelihood of guess1: $N(\\mu=4.5,\\sigma=4)$? Store your answer in the variable <strong>ANS51</strong>."
   ]
  },
  {
   "cell_type": "code",
   "execution_count": 15,
   "metadata": {},
   "outputs": [],
   "source": [
    "import numpy as np\n",
    "from scipy.stats import norm"
   ]
  },
  {
   "cell_type": "code",
   "execution_count": 16,
   "metadata": {
    "deletable": false,
    "nbgrader": {
     "checksum": "b005774cd38026888f1a8d25ce0e117d",
     "grade": false,
     "grade_id": "cell-47ee94371a9ccbf0",
     "locked": false,
     "schema_version": 1,
     "solution": true
    }
   },
   "outputs": [
    {
     "data": {
      "text/plain": [
       "0.0005565109655370626"
      ]
     },
     "execution_count": 16,
     "metadata": {},
     "output_type": "execute_result"
    }
   ],
   "source": [
    "dist = norm(4.5, 4)\n",
    "ANS51= dist.pdf(2) * dist.pdf(4.5) * dist.pdf(8)\n",
    "ANS51"
   ]
  },
  {
   "cell_type": "code",
   "execution_count": 17,
   "metadata": {
    "deletable": false,
    "editable": false,
    "nbgrader": {
     "checksum": "6e7719f4696dbbc95ea49d8a1a411fb4",
     "grade": true,
     "grade_id": "cell-2cd5d1e205fb8721",
     "locked": true,
     "points": 1,
     "schema_version": 1,
     "solution": false
    }
   },
   "outputs": [],
   "source": [
    "assert isinstance(ANS51, numbers.Number), \"Problem 5.1, testing ANS51, type of value stored in variable does not match the expected type. Expecting a numpy float.\""
   ]
  },
  {
   "cell_type": "markdown",
   "metadata": {
    "deletable": false,
    "editable": false,
    "nbgrader": {
     "checksum": "f60ee8ea8bc7e0549041995fdafe94ec",
     "grade": false,
     "grade_id": "cell-565c9ad77aa77644",
     "locked": true,
     "schema_version": 1,
     "solution": false
    }
   },
   "source": [
    "<strong>5.2</strong> \\[1 pt\\] Let's change our assumptions regarding the values of $\\mu$ and $\\sigma$. What is the likelihood of guess2: $N(\\mu=6,\\sigma=8)$? Store your answer in the variable <strong>ANS52</strong>."
   ]
  },
  {
   "cell_type": "code",
   "execution_count": 18,
   "metadata": {
    "deletable": false,
    "nbgrader": {
     "checksum": "3b14525b304e3eff3bdad42570a174d9",
     "grade": false,
     "grade_id": "cell-b45ebef5ff62d42b",
     "locked": false,
     "schema_version": 1,
     "solution": true
    }
   },
   "outputs": [
    {
     "data": {
      "text/plain": [
       "0.00010422397698910738"
      ]
     },
     "execution_count": 18,
     "metadata": {},
     "output_type": "execute_result"
    }
   ],
   "source": [
    "dist = norm(6, 8)\n",
    "ANS52 = dist.pdf(2) * dist.pdf(4.5) * dist.pdf(8)\n",
    "ANS52"
   ]
  },
  {
   "cell_type": "code",
   "execution_count": 19,
   "metadata": {
    "deletable": false,
    "editable": false,
    "nbgrader": {
     "checksum": "248ac69f674587c798a97d2d1ead244f",
     "grade": true,
     "grade_id": "cell-838756d8041f9a38",
     "locked": true,
     "points": 1,
     "schema_version": 1,
     "solution": false
    }
   },
   "outputs": [],
   "source": [
    "assert isinstance(ANS52, numbers.Number), \"Problem 5.2, testing ANS52, type of value stored in variable does not match the expected type. Expecting a numpy float.\""
   ]
  },
  {
   "cell_type": "markdown",
   "metadata": {
    "deletable": false,
    "editable": false,
    "nbgrader": {
     "checksum": "bdace826de041e9560478a28415ab5a0",
     "grade": false,
     "grade_id": "cell-651fde2ac8983bac",
     "locked": true,
     "schema_version": 1,
     "solution": false
    }
   },
   "source": [
    "<strong>5.3</strong> \\[1 pt\\] Which are the more likely estimates? Store your answer as either \"guess1\" or \"guess2\" into a variable called <strong>ANS53</strong>."
   ]
  },
  {
   "cell_type": "code",
   "execution_count": 20,
   "metadata": {
    "deletable": false,
    "nbgrader": {
     "checksum": "e52440fe8b4eb4adf23426f1b04df0b7",
     "grade": false,
     "grade_id": "cell-2f23f3d7afd2148f",
     "locked": false,
     "schema_version": 1,
     "solution": true
    }
   },
   "outputs": [],
   "source": [
    "ANS53 = \"guess1\""
   ]
  },
  {
   "cell_type": "code",
   "execution_count": 21,
   "metadata": {
    "deletable": false,
    "editable": false,
    "nbgrader": {
     "checksum": "a5bd73b0d0175e13bcb531c7f739a071",
     "grade": true,
     "grade_id": "cell-4d3946df1270c598",
     "locked": true,
     "points": 1,
     "schema_version": 1,
     "solution": false
    }
   },
   "outputs": [],
   "source": [
    "assert ((ANS53.strip().replace(\" \", \"\").lower() == \"guess1\") or (ANS53.strip().replace(\" \", \"\").lower() == \"guess2\")), \"Problem 5.3, testing ANS53, value was not 'guess1' or 'guess2'. Please choose 'guess1' or 'guess2' as your answer.\""
   ]
  },
  {
   "cell_type": "markdown",
   "metadata": {
    "deletable": false,
    "editable": false,
    "nbgrader": {
     "checksum": "53d5ace9ec06a007840615d9694dd422",
     "grade": false,
     "grade_id": "cell-49182dff977436fb",
     "locked": true,
     "schema_version": 1,
     "solution": false
    }
   },
   "source": [
    "## 6. Likelihood calculation based on a line"
   ]
  },
  {
   "cell_type": "markdown",
   "metadata": {
    "deletable": false,
    "editable": false,
    "nbgrader": {
     "checksum": "3ed006aca6631ccb89c13616dcd4c14d",
     "grade": false,
     "grade_id": "cell-e7778891ad271e61",
     "locked": true,
     "schema_version": 1,
     "solution": false
    }
   },
   "source": [
    "We have calculated the forecasted probability of winning according to some logistic regression line for some actual wins and losses . Here are those forecasted probabilities: \n",
    "- <b>P(win):</b> 0.52, 0.76, 0.89, 0.91, 0.95, 0.95, 0.98, 0.98\n",
    "- <b>P(loss):</b> 0.08, 0.08, 0.08, 0.15, 0.2, 0.25, 0.6, 0.7\n"
   ]
  },
  {
   "cell_type": "markdown",
   "metadata": {
    "deletable": false,
    "editable": false,
    "nbgrader": {
     "checksum": "896682be697fb8a5265f128b4119ff74",
     "grade": false,
     "grade_id": "cell-be5fbca673331f43",
     "locked": true,
     "schema_version": 1,
     "solution": false
    }
   },
   "source": [
    "<strong>6.1</strong> \\[1 pt\\] What is the <strong>likelihood</strong> of the line given the data (you do not need the line nor the data - only the resulting probabilities). Please store your answer into <strong>ANS61</strong>. "
   ]
  },
  {
   "cell_type": "code",
   "execution_count": 25,
   "metadata": {
    "deletable": false,
    "nbgrader": {
     "checksum": "89e7494aa31f9db861af69659efd747d",
     "grade": false,
     "grade_id": "cell-de79d768892ac937",
     "locked": false,
     "schema_version": 1,
     "solution": true
    }
   },
   "outputs": [],
   "source": [
    "ANS61=0.52*0.76*0.89*0.91*0.95*0.95*0.98*0.98*(1-0.08)*(1-0.08)*(1-0.08)*(1-0.15)*(1-0.2)*(1-0.25)*(1-0.6)*(1-0.7)"
   ]
  },
  {
   "cell_type": "code",
   "execution_count": 26,
   "metadata": {
    "deletable": false,
    "editable": false,
    "nbgrader": {
     "checksum": "95d8c9b7d9a1614ba63fa14154ce5ada",
     "grade": true,
     "grade_id": "cell-4261db1e18760504",
     "locked": true,
     "points": 1,
     "schema_version": 1,
     "solution": false
    }
   },
   "outputs": [],
   "source": [
    "assert isinstance(ANS61, numbers.Number), \"Problem 6.1, testing ANS61, type of value stored in variable does not match the expected type. Expecting Float.\""
   ]
  },
  {
   "cell_type": "markdown",
   "metadata": {
    "deletable": false,
    "editable": false,
    "nbgrader": {
     "checksum": "dc4e3e083d36ce5007af00704fda355f",
     "grade": false,
     "grade_id": "cell-fc79a3c1bbd175a4",
     "locked": true,
     "schema_version": 1,
     "solution": false
    }
   },
   "source": [
    "<strong>6.2</strong> \\[1 pt\\] What is the <strong>log likelihood</strong> (ln) of the line given the data? Please store your answer into the variable <strong>ANS62</strong>."
   ]
  },
  {
   "cell_type": "code",
   "execution_count": 33,
   "metadata": {
    "deletable": false,
    "nbgrader": {
     "checksum": "0dbba7a30477ca2f93a568964899ce2d",
     "grade": false,
     "grade_id": "cell-da056b4724593d40",
     "locked": false,
     "schema_version": 1,
     "solution": true
    }
   },
   "outputs": [],
   "source": [
    "win = [0.52, 0.76, 0.89, 0.91, 0.95, 0.95, 0.98, 0.98]\n",
    "loss = [0.08, 0.08, 0.08, 0.15, 0.2, 0.25, 0.6, 0.7]\n",
    "pwin = np.sum([math.log(i) for i in win])\n",
    "ploss = np.sum([math.log(1 - i) for i in loss])\n",
    "ANS62 = pwin + ploss"
   ]
  },
  {
   "cell_type": "code",
   "execution_count": 34,
   "metadata": {
    "deletable": false,
    "editable": false,
    "nbgrader": {
     "checksum": "3721514f79c256552811311e90005854",
     "grade": true,
     "grade_id": "cell-06fbfe53174dfc2d",
     "locked": true,
     "points": 1,
     "schema_version": 1,
     "solution": false
    }
   },
   "outputs": [],
   "source": [
    "assert isinstance(ANS62, numbers.Number), \"Problem 6.2, testing ANS62, type of value stored in variable does not match the expected type. Expecting Float.\"\n",
    "assert (ANS62 > 2) == False, \"Problem 6.2, testing ANS62, value is larger than expected. Which log did you use (log10 or ln)? Which are you supposed to use?\"\n",
    "assert (ANS62 < -4.5) == False, \"Problem 6.2, testing ANS62, value is smaller than expected. Check your math. Did you account for wins/losses?\""
   ]
  },
  {
   "cell_type": "markdown",
   "metadata": {
    "deletable": false,
    "editable": false,
    "nbgrader": {
     "checksum": "3662cb80c0f28c90730809637ae3e7de",
     "grade": false,
     "grade_id": "cell-8d6e1a0334ec8551",
     "locked": true,
     "schema_version": 1,
     "solution": false
    }
   },
   "source": [
    "Sources:\n",
    "<ul>\n",
    "<li>https://www.kaggle.com/mashimo/a-very-simple-logistic-regression-model</li>\n",
    "<li>https://pbpython.com/categorical-encoding.html</li>\n",
    "<li>https://www.kaggle.com/chethan187/classification-model-using-logistic-regression</li>\n",
    "</ul>"
   ]
  }
 ],
 "metadata": {
  "coursera": {
   "schema_names": [
    "mads_math_methods_for_data_science_v3_assignment4"
   ]
  },
  "kernelspec": {
   "display_name": "Python 3",
   "language": "python",
   "name": "python3"
  },
  "language_info": {
   "codemirror_mode": {
    "name": "ipython",
    "version": 3
   },
   "file_extension": ".py",
   "mimetype": "text/x-python",
   "name": "python",
   "nbconvert_exporter": "python",
   "pygments_lexer": "ipython3",
   "version": "3.7.3"
  },
  "pycharm": {
   "stem_cell": {
    "cell_type": "raw",
    "metadata": {
     "collapsed": false
    },
    "source": []
   }
  }
 },
 "nbformat": 4,
 "nbformat_minor": 2
}
