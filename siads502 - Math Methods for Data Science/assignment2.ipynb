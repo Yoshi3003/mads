{
 "cells": [
  {
   "cell_type": "markdown",
   "metadata": {
    "deletable": false,
    "editable": false,
    "nbgrader": {
     "checksum": "52e35f43ddefdc4e044100b14a344bc8",
     "grade": false,
     "grade_id": "cell-a2d42e109d5a4446",
     "locked": true,
     "schema_version": 1,
     "solution": false
    }
   },
   "source": [
    "# SIDAS502: Math Methods for Data Science \n",
    "\n",
    "\n",
    "# School of Information, University of Michigan\n",
    "\n",
    "\n",
    "## Week2: Eigenvalue/Eigenvector/Linear Trasformation\n",
    "\n",
    "### Version 1.2\n",
    "\n",
    "This assignment is designed to demonstrate basic linear algebra and computational properties of matrices through identifying linearity across vectors, using row reduction to calculate eigenvalues and eigenvectors. Please read the directions carefully, as we want to avoid submissions that are marked incorrect due to formatting mistakes. You will be using sympy, numpy, and scipy for this assignment. \n",
    "\n",
    "Ensure that the following code is present at the beginning of your assignment:\n",
    "- from sympy import *\n",
    "- import numpy as np\n",
    "- from numpy import linalg\n"
   ]
  },
  {
   "cell_type": "markdown",
   "metadata": {},
   "source": [
    "Please enter your name: \"\""
   ]
  },
  {
   "cell_type": "markdown",
   "metadata": {
    "deletable": false,
    "editable": false,
    "nbgrader": {
     "checksum": "e8233e474cb3078d25b2045117ffe093",
     "grade": false,
     "grade_id": "cell-2ec3375c714bff40",
     "locked": true,
     "schema_version": 1,
     "solution": false
    }
   },
   "source": [
    "## Part 1: Linear (In)dependence\n"
   ]
  },
  {
   "cell_type": "markdown",
   "metadata": {
    "deletable": false,
    "editable": false,
    "nbgrader": {
     "checksum": "d0a24edfe2561dbc8290c446eee91814",
     "grade": false,
     "grade_id": "cell-34ab2f1da94f850b",
     "locked": true,
     "schema_version": 1,
     "solution": false
    }
   },
   "source": [
    "<b>1.0</b> In this section, we will be determining if a set of vectors are linearly independent (if they are not, then they are linearly dependent). Below you will be asked to write a function to decide if 2, 3, or 4 inputed vectors in $\\mathbf{R}^3$ are linearly independent.  \n",
    "\n",
    "\n",
    "    \n"
   ]
  },
  {
   "cell_type": "code",
   "execution_count": 2,
   "metadata": {
    "deletable": false,
    "editable": false,
    "nbgrader": {
     "checksum": "b0fd0ad33c6db2d60b408cdbdf4e9e7b",
     "grade": false,
     "grade_id": "cell-91d40d41fc3261a7",
     "locked": true,
     "schema_version": 1,
     "solution": false
    }
   },
   "outputs": [],
   "source": [
    "from sympy import *\n",
    "import numpy as np\n",
    "from scipy import linalg\n",
    "from numpy import linalg"
   ]
  },
  {
   "cell_type": "markdown",
   "metadata": {
    "deletable": false,
    "editable": false,
    "nbgrader": {
     "checksum": "e5e6854b6144e59b3ffe2609c80ea243",
     "grade": false,
     "grade_id": "cell-1b3452e8f5584c8a",
     "locked": true,
     "schema_version": 1,
     "solution": false
    }
   },
   "source": [
    "<strong>1.1</strong> \\[2 pt\\] Impliment the function Indy2Vec that takes in two 3 dimentional vectors each represented as an array and tells whether they are linearly independent.\n"
   ]
  },
  {
   "cell_type": "code",
   "execution_count": 14,
   "metadata": {
    "deletable": false,
    "nbgrader": {
     "checksum": "b6c0b10d230805049576022bfe8b0716",
     "grade": false,
     "grade_id": "cell-411ec698d9ae862d",
     "locked": false,
     "schema_version": 1,
     "solution": true
    }
   },
   "outputs": [
    {
     "data": {
      "text/plain": [
       "False"
      ]
     },
     "execution_count": 14,
     "metadata": {},
     "output_type": "execute_result"
    }
   ],
   "source": [
    "def Indy2Vec(v1, v2):\n",
    "    mat = np.array([v1, v2])\n",
    "    _, indexes = Matrix(mat).T.rref()\n",
    "    return True if len(indexes) == 2 else False\n",
    "\n",
    "v1 = np.array([0, 5, 0])\n",
    "v2 = np.array([0, -10, 0])\n",
    "Indy2Vec(v1, v2)\n"
   ]
  },
  {
   "cell_type": "code",
   "execution_count": 15,
   "metadata": {
    "deletable": false,
    "editable": false,
    "nbgrader": {
     "checksum": "902f227a5075fac2d092d32c4baf0129",
     "grade": true,
     "grade_id": "cell-45a28a1ab4ac003c",
     "locked": true,
     "points": 2,
     "schema_version": 1,
     "solution": false
    }
   },
   "outputs": [],
   "source": [
    "v1 = np.array([0, 5, 0])\n",
    "v2 = np.array([0, -10, 0])\n",
    "v3 = np.array([1, 2, 3])\n",
    "v4 = np.array([-2, -4, -6])\n",
    "assert Indy2Vec(v1, v2) == False, \"Problem 1.1, Your code said that two linearly dependent vectors were independent\"\n",
    "assert Indy2Vec(v3, v4) == False, \"Problem 1.1, Your code said that two linearly dependent vectors were independent\"\n",
    "assert Indy2Vec(v1, v3) == True, \"Problem 1.1, Your code said that two linearly independent vectors were dependent\"\n",
    "assert Indy2Vec(v2, v3) == True, \"Problem 1.1, Your code said that two linearly independent vectors were dependent\""
   ]
  },
  {
   "cell_type": "markdown",
   "metadata": {
    "deletable": false,
    "editable": false,
    "nbgrader": {
     "checksum": "fbe72fd0dee166cf518ca6ee8ae8c0f9",
     "grade": false,
     "grade_id": "cell-d8dee39f31ad0c14",
     "locked": true,
     "schema_version": 1,
     "solution": false
    }
   },
   "source": [
    "<strong>1.2</strong> \\[2 pt\\] Impliment the function Indy2Vec that takes in three 3 dimentional vectors each represented as an array and tells whether they are linearly independent."
   ]
  },
  {
   "cell_type": "code",
   "execution_count": 27,
   "metadata": {
    "deletable": false,
    "nbgrader": {
     "checksum": "462648ea46b3dc7cb9cd97e1941f9800",
     "grade": false,
     "grade_id": "cell-9437cf7256c37d72",
     "locked": false,
     "schema_version": 1,
     "solution": true
    }
   },
   "outputs": [
    {
     "data": {
      "text/plain": [
       "True"
      ]
     },
     "execution_count": 27,
     "metadata": {},
     "output_type": "execute_result"
    }
   ],
   "source": [
    "def Indy3Vec(v1, v2, v3):\n",
    "    # https://math.stackexchange.com/a/412566\n",
    "    # http://sites.science.oregonstate.edu/math/home/programs/undergrad/CalculusQuestStudyGuides/vcalc/lindep/lindep.html#:~:text=For%20homogeneous%20systems%20this%20happens,has%20a%20non%2Dzero%20determinant.\n",
    "    # simply find the determinant. if the det of M is not equal to 0, the vectors are linearly independent\n",
    "    mat = Matrix(np.array([v1, v2, v3]))\n",
    "    return True if mat.det() != 0 else False\n",
    "    \n",
    "v1=np.array([-1,3,4])\n",
    "v2=np.array([6,-2,9])\n",
    "v3=np.array([3,8,5]) \n",
    "Indy3Vec(v1, v2, v3)\n"
   ]
  },
  {
   "cell_type": "code",
   "execution_count": 28,
   "metadata": {
    "deletable": false,
    "editable": false,
    "nbgrader": {
     "checksum": "27d221a7de42aceb32c4833275313efd",
     "grade": true,
     "grade_id": "cell-158e70c4cabaca4d",
     "locked": true,
     "points": 2,
     "schema_version": 1,
     "solution": false
    }
   },
   "outputs": [],
   "source": [
    "v1=np.array([-1,3,4])\n",
    "v2=np.array([6,-2,9])\n",
    "v3=np.array([3,8,5]) \n",
    "\n",
    "assert Indy3Vec(v1, v2, v3) == True, \"Problem 1.2, Your code said that two linearly independent vectors were dependent\""
   ]
  },
  {
   "cell_type": "markdown",
   "metadata": {
    "deletable": false,
    "editable": false,
    "nbgrader": {
     "checksum": "79267a97b8574487d1ec5b8f889864cc",
     "grade": false,
     "grade_id": "cell-ce5dcd32393db2e4",
     "locked": true,
     "schema_version": 1,
     "solution": false
    }
   },
   "source": [
    "<strong>1.3</strong> \\[1 pt\\] Impliment the function Indy4Vec that takes in four 3 dimentional vectors each represented as an array and tells whether they are linearly independent."
   ]
  },
  {
   "cell_type": "code",
   "execution_count": 30,
   "metadata": {
    "deletable": false,
    "nbgrader": {
     "checksum": "8968c0ae2b8b86de37944cc442adb08c",
     "grade": false,
     "grade_id": "cell-d68d4ff3c19a01a9",
     "locked": false,
     "schema_version": 1,
     "solution": true
    }
   },
   "outputs": [
    {
     "data": {
      "text/plain": [
       "False"
      ]
     },
     "execution_count": 30,
     "metadata": {},
     "output_type": "execute_result"
    }
   ],
   "source": [
    "def Indy4Vec(v1, v2, v3, v4):\n",
    "    return False\n",
    "\n",
    "v1=np.array([-1,3,4])\n",
    "v2=np.array([6,-2,9])\n",
    "v3=np.array([3,8,5])\n",
    "v4=np.array([5,6,7])\n",
    "Indy4Vec(v1, v2, v3, v4)\n"
   ]
  },
  {
   "cell_type": "code",
   "execution_count": 31,
   "metadata": {
    "deletable": false,
    "editable": false,
    "nbgrader": {
     "checksum": "41650b8b6c936021e3cd8c5240c53901",
     "grade": true,
     "grade_id": "cell-1b83b01be1cc2c58",
     "locked": true,
     "points": 1,
     "schema_version": 1,
     "solution": false
    }
   },
   "outputs": [],
   "source": [
    "v1=np.array([-1,3,4])\n",
    "v2=np.array([6,-2,9])\n",
    "v3=np.array([3,8,5])\n",
    "v4=np.array([5,6,7])\n",
    "\n",
    "\n",
    "assert Indy4Vec(v1, v2, v3, v4) == False, \"Problem 1.3, Your code said that two linearly dependent vectors were independent\""
   ]
  },
  {
   "cell_type": "markdown",
   "metadata": {
    "deletable": false,
    "editable": false,
    "nbgrader": {
     "checksum": "6a477fc10d8ffea45fadcbbcb34c578c",
     "grade": false,
     "grade_id": "cell-ce5dcd323933b2c5",
     "locked": true,
     "schema_version": 1,
     "solution": false
    }
   },
   "source": [
    "<strong>1.4</strong> \\[2 pt\\] Impliment the function ThreeVec that takes in three 3 dimentional vectors each represented as an array,stacks the arrays vertically (each array is a row in a matrix), and returns a list in which the first element is the rank of the matrix, the second element is the rank of its transpose, the third element is its determinant rounded to two decimal places, the fourth element is the first element of its inverse rounded to two decimal places if its inverse exists and is the string \"no inverse\" if it does not exist.\n",
    "\n",
    "\n",
    "\n"
   ]
  },
  {
   "cell_type": "code",
   "execution_count": 81,
   "metadata": {
    "deletable": false,
    "nbgrader": {
     "checksum": "f30150c5bffe66c9ec0005c451874cb9",
     "grade": false,
     "grade_id": "cell-d68d4ff3c19a01b8",
     "locked": false,
     "schema_version": 1,
     "solution": true
    }
   },
   "outputs": [
    {
     "data": {
      "text/plain": [
       "[2, 2, 0.0, 'no inverse']"
      ]
     },
     "execution_count": 81,
     "metadata": {},
     "output_type": "execute_result"
    }
   ],
   "source": [
    "def inverse(matrix):\n",
    "    try:\n",
    "        inv = np.linalg.inv(matrix)\n",
    "        return round(inv[0][0], 2) if np.allclose(np.dot(matrix, inv), np.eye(3)) else \"no inverse\"\n",
    "    except np.linalg.LinAlgError:\n",
    "        return \"no inverse\"\n",
    "\n",
    "def ThreeVec(v1, v2, v3):\n",
    "    matrix = np.array([v1, v2, v3])\n",
    "    matrix_rank = np.linalg.matrix_rank(matrix)\n",
    "    transpose_rank = np.linalg.matrix_rank(matrix.T)\n",
    "    det = np.linalg.det(matrix)\n",
    "    inv = inverse(matrix)\n",
    "    return [matrix_rank, transpose_rank, round(det, 2), inv]\n",
    "    \n",
    "v1=np.array([10,4.4,13])\n",
    "v2=np.array([-5,-3.1,4])\n",
    "v3=np.array([15,5.7,30])\n",
    "ThreeVec(v1, v2, v3)\n"
   ]
  },
  {
   "cell_type": "code",
   "execution_count": 82,
   "metadata": {
    "deletable": false,
    "editable": false,
    "nbgrader": {
     "checksum": "a0c49744387eea547c6cff93d72cdb42",
     "grade": true,
     "grade_id": "cell-1b83b01be1cc2c59",
     "locked": true,
     "points": 2,
     "schema_version": 1,
     "solution": false
    }
   },
   "outputs": [],
   "source": [
    "v1=np.array([10,4.4,13])\n",
    "v2=np.array([-5,-3.1,4])\n",
    "v3=np.array([15,5.7,30])\n",
    "\n",
    "\n",
    "\n",
    "assert(ThreeVec(v1, v2, v3) == [2, 2, 0.0, 'no inverse']), \"Problem 1.4, Your function does not compute the example correctly.\"\n",
    "\n",
    "\n",
    "\n",
    "\n",
    "\n",
    "\n",
    "\n",
    "\n",
    "\n"
   ]
  },
  {
   "cell_type": "markdown",
   "metadata": {
    "deletable": false,
    "editable": false,
    "nbgrader": {
     "checksum": "f5397ac573f8e4b248539167e6d1a9c9",
     "grade": false,
     "grade_id": "cell-3d39e13d4a7cc44b",
     "locked": true,
     "schema_version": 1,
     "solution": false
    }
   },
   "source": [
    "## Part 2: Eigenvalue/ Eigenvector\n"
   ]
  },
  {
   "cell_type": "markdown",
   "metadata": {
    "deletable": false,
    "editable": false,
    "nbgrader": {
     "checksum": "df04e56fb998e34ca61238cef92c5669",
     "grade": false,
     "grade_id": "cell-40704c107a135552",
     "locked": true,
     "schema_version": 1,
     "solution": false
    }
   },
   "source": [
    "<strong>2.1</strong> \\[1 pt\\] What is the eigenvalue and eigenvectors of the matrix[[1,3],[2,5]]? Please store the eigenvalues in the variable called <strong>vals</strong>. The datatype for vals should be a numpy array.\n",
    "\n"
   ]
  },
  {
   "cell_type": "code",
   "execution_count": 5,
   "metadata": {
    "deletable": false,
    "nbgrader": {
     "checksum": "16305e8b3dbe5512261883e62ae4e3a8",
     "grade": false,
     "grade_id": "cell-571f59fab4ac61a1",
     "locked": false,
     "schema_version": 1,
     "solution": true
    }
   },
   "outputs": [
    {
     "data": {
      "text/plain": [
       "array([-0.16227766,  6.16227766])"
      ]
     },
     "execution_count": 5,
     "metadata": {},
     "output_type": "execute_result"
    }
   ],
   "source": [
    "v1= np.array([[1,3],[2,5]])\n",
    "vals = np.linalg.eigvals(v1)\n",
    "vals"
   ]
  },
  {
   "cell_type": "code",
   "execution_count": null,
   "metadata": {
    "deletable": false,
    "editable": false,
    "nbgrader": {
     "checksum": "324c3e2101c4d4fecd90356690b0dac0",
     "grade": true,
     "grade_id": "cell-174c290441138ebc",
     "locked": true,
     "points": 1,
     "schema_version": 1,
     "solution": false
    }
   },
   "outputs": [],
   "source": [
    "#hidden tests for problem 2.1 are within this cell"
   ]
  },
  {
   "cell_type": "markdown",
   "metadata": {},
   "source": [
    "<strong>2.2</strong> \\[1 pt\\] What are the eigenvectors of the matrix [[1,3],[2,5]]? Please store the eigenvectors in a variable called <strong>vecs</strong>. The datatype for vals should be an array.\n",
    "\n"
   ]
  },
  {
   "cell_type": "code",
   "execution_count": 7,
   "metadata": {
    "deletable": false,
    "nbgrader": {
     "checksum": "025bea56b5c4864d56246aa645d3ebbf",
     "grade": false,
     "grade_id": "cell-ae7fca74e80f42d3",
     "locked": false,
     "schema_version": 1,
     "solution": true
    }
   },
   "outputs": [
    {
     "data": {
      "text/plain": [
       "array([[-0.93246475, -0.50245469],\n",
       "       [ 0.36126098, -0.86460354]])"
      ]
     },
     "execution_count": 7,
     "metadata": {},
     "output_type": "execute_result"
    }
   ],
   "source": [
    "_, vecs = np.linalg.eig(v1)\n",
    "vecs"
   ]
  },
  {
   "cell_type": "code",
   "execution_count": null,
   "metadata": {
    "deletable": false,
    "editable": false,
    "nbgrader": {
     "checksum": "9ba0515a9e16e22610634c0621dcc84d",
     "grade": true,
     "grade_id": "cell-c9c31cdf9a7b77ad",
     "locked": true,
     "points": 1,
     "schema_version": 1,
     "solution": false
    }
   },
   "outputs": [],
   "source": [
    "#hidden tests for problem 2.2 are within this cell"
   ]
  },
  {
   "cell_type": "markdown",
   "metadata": {
    "deletable": false,
    "editable": false,
    "nbgrader": {
     "checksum": "08d9d962857f8705c1cc6b2438e717aa",
     "grade": false,
     "grade_id": "cell-ce5dcd323933b2e5",
     "locked": true,
     "schema_version": 1,
     "solution": false
    }
   },
   "source": [
    "<strong>2.3</strong> \\[2 pt\\] Find a 2 x 2 matrix with integer entries that has 10 and 25 as eigenvalues with eigen vectors $(1, 4)$ and $(1, -1)$ respectively.  Record it as an array in $ANS23$ with integer entries.  Hint: Put variables for entries in a 2 x 2 array, write out the equations that must be satisfied, and solve."
   ]
  },
  {
   "cell_type": "code",
   "execution_count": 6,
   "metadata": {
    "deletable": false,
    "nbgrader": {
     "checksum": "1e8eb8b492349db1b2f39d845df39f29",
     "grade": false,
     "grade_id": "cell-d68d4ff3c19a01b7",
     "locked": false,
     "schema_version": 1,
     "solution": true
    }
   },
   "outputs": [],
   "source": [
    "ANS23 = np.array([[22, -3], [-12, 13]])\n"
   ]
  },
  {
   "cell_type": "code",
   "execution_count": 5,
   "metadata": {
    "deletable": false,
    "editable": false,
    "nbgrader": {
     "checksum": "5a3d8beb668c2cce863f921ed996fdce",
     "grade": true,
     "grade_id": "cell-1b83b01be1cc2c69",
     "locked": true,
     "points": 2,
     "schema_version": 1,
     "solution": false
    }
   },
   "outputs": [],
   "source": [
    "assert type(ANS23) == np.ndarray, \"Problem 2.3, Your answer should be an array\"\n",
    "assert ANS23.shape == (2, 2), \"Problem 2.3, Your array should be dimension 2 x 2\"\n",
    "\n",
    "assert np.isclose(ANS23 @ np.array([1, 4]), np.array([10, 40])).all(), \"Problem 2.3, Your array should have [1, 4] as an eigenvector with eigenvalue 10\"\n",
    "\n",
    "\n",
    "\n"
   ]
  },
  {
   "cell_type": "markdown",
   "metadata": {
    "deletable": false,
    "editable": false,
    "nbgrader": {
     "checksum": "baa173f91504a40c93a7655ef9a905d3",
     "grade": false,
     "grade_id": "cell-9cd4e8d2f225fafd",
     "locked": true,
     "schema_version": 1,
     "solution": false
    }
   },
   "source": [
    "## Part 3: Composition \n"
   ]
  },
  {
   "cell_type": "markdown",
   "metadata": {
    "deletable": false,
    "editable": false,
    "nbgrader": {
     "checksum": "4d362bc5ffa395158863024f1a23b0f4",
     "grade": false,
     "grade_id": "cell-f0196a1e1ab90e75",
     "locked": true,
     "schema_version": 1,
     "solution": false
    }
   },
   "source": [
    "<strong>3.1</strong> \\[1 pt\\] Assume f(x)= 3x+6 and g(y)= 2y+1, what is the reduced equation of h(x)=g * f(x)=g(f(x))? Store your answer in the variable <strong>compo</strong> as a string type that is a valid python formula.  For example, \"5 * x ** 2 + 4\".  Note that neither \"5 x ** 2 + 4\" nor \"\"5 * x ^ 2 + 4\" are valid python formulas."
   ]
  },
  {
   "cell_type": "code",
   "execution_count": 7,
   "metadata": {
    "deletable": false,
    "nbgrader": {
     "checksum": "216a61b0d4d2634928a988b3dd04004b",
     "grade": false,
     "grade_id": "cell-81395b5bd2a197fb",
     "locked": false,
     "schema_version": 1,
     "solution": true
    }
   },
   "outputs": [],
   "source": [
    "compo=\"6 * x + 13\""
   ]
  },
  {
   "cell_type": "code",
   "execution_count": 8,
   "metadata": {
    "deletable": false,
    "editable": false,
    "nbgrader": {
     "checksum": "ab1988a91ec4eb69484250d75267e0bd",
     "grade": true,
     "grade_id": "cell-f797c1459bf93874",
     "locked": true,
     "points": 1,
     "schema_version": 1,
     "solution": false
    }
   },
   "outputs": [],
   "source": [
    "assert type(compo) == str, \"Problem 3.1, testing compo, type of value stored in variable does not match the expected type. Expecting String.\""
   ]
  },
  {
   "cell_type": "markdown",
   "metadata": {
    "deletable": false,
    "editable": false,
    "nbgrader": {
     "checksum": "81500b9d6c2a6f4024c7bc2ced1d791f",
     "grade": false,
     "grade_id": "cell-96318587904ad09d",
     "locked": true,
     "schema_version": 1,
     "solution": false
    }
   },
   "source": [
    "<strong>3.2</strong> \\[1 pt\\] Given x = 1, use the equation assigned to compo to solve. Store your answer in the variable <strong>compo1</strong> as an integer. "
   ]
  },
  {
   "cell_type": "code",
   "execution_count": 9,
   "metadata": {
    "deletable": false,
    "nbgrader": {
     "checksum": "ecd82c5ea467a83ea08fb1821be447c1",
     "grade": false,
     "grade_id": "cell-beb471e3c613b1ec",
     "locked": false,
     "schema_version": 1,
     "solution": true
    }
   },
   "outputs": [],
   "source": [
    "compo1=19"
   ]
  },
  {
   "cell_type": "code",
   "execution_count": 10,
   "metadata": {
    "deletable": false,
    "editable": false,
    "nbgrader": {
     "checksum": "9b100aa7c0b2bf84349d26f619e805fa",
     "grade": true,
     "grade_id": "cell-850259d8a0f763ca",
     "locked": true,
     "points": 1,
     "schema_version": 1,
     "solution": false
    }
   },
   "outputs": [],
   "source": [
    "assert type(compo1) == int, \"Problem 3.2, testing compo1, type of value stored in variable does not match the expected type. Expecting Integer.\""
   ]
  },
  {
   "cell_type": "markdown",
   "metadata": {
    "deletable": false,
    "editable": false,
    "nbgrader": {
     "checksum": "5fb7b535cdfead0c3954b5e5cd7b678a",
     "grade": false,
     "grade_id": "cell-10c31810a421b502",
     "locked": true,
     "schema_version": 1,
     "solution": false
    }
   },
   "source": [
    "## Part4: Linear Transformation "
   ]
  },
  {
   "cell_type": "markdown",
   "metadata": {
    "deletable": false,
    "editable": false,
    "nbgrader": {
     "checksum": "08ae96d45ecbf5461477b060950baf55",
     "grade": false,
     "grade_id": "cell-05f210a9b75f0951",
     "locked": true,
     "schema_version": 1,
     "solution": false
    }
   },
   "source": [
    "<strong>4.1</strong> \\[2 pt\\] Assume we have an function: $f(x, y, z) = x$<sup>2</sup>$yz/3+x\\sqrt{y}$+3z =10, is this function linear in x, y, or z?  For each variable, provide a string with a nonlinear term involving that variable or the empty string if none exists.  Again, report python executable strings.  For example, the equation might be written \"(x ** 2) * y * z/3 + x * np.sqrt(y) + z + 3z = 10\" in python"
   ]
  },
  {
   "cell_type": "code",
   "execution_count": 15,
   "metadata": {
    "deletable": false,
    "nbgrader": {
     "checksum": "4795369007a85417fa51dbf51e91e7b5",
     "grade": false,
     "grade_id": "cell-7cd69aa0c7535f5d",
     "locked": false,
     "schema_version": 1,
     "solution": true
    }
   },
   "outputs": [
    {
     "data": {
      "text/latex": [
       "$\\displaystyle \\frac{x^{2} y}{3} + 3$"
      ],
      "text/plain": [
       "x**2*y/3 + 3"
      ]
     },
     "execution_count": 15,
     "metadata": {},
     "output_type": "execute_result"
    }
   ],
   "source": [
    "non_linear_X = \"(x ** 2) * y * z/3\"\n",
    "non_linear_Y = \"x * np.sqrt(y)\"\n",
    "non_linear_Z = \"\""
   ]
  },
  {
   "cell_type": "code",
   "execution_count": null,
   "metadata": {
    "deletable": false,
    "editable": false,
    "nbgrader": {
     "checksum": "2e6c7c4bc810ae206d61c1264f827903",
     "grade": true,
     "grade_id": "cell-4e6661b95f6581b7",
     "locked": true,
     "points": 1,
     "schema_version": 1,
     "solution": false
    }
   },
   "outputs": [],
   "source": [
    "#hidden tests for problem 4.1 are within this cell"
   ]
  }
 ],
 "metadata": {
  "coursera": {
   "schema_names": [
    "mads_math_methods_for_data_science_v3_assignment2"
   ]
  },
  "kernelspec": {
   "display_name": "Python 3",
   "language": "python",
   "name": "python3"
  },
  "language_info": {
   "codemirror_mode": {
    "name": "ipython",
    "version": 3
   },
   "file_extension": ".py",
   "mimetype": "text/x-python",
   "name": "python",
   "nbconvert_exporter": "python",
   "pygments_lexer": "ipython3",
   "version": "3.7.3"
  }
 },
 "nbformat": 4,
 "nbformat_minor": 2
}
