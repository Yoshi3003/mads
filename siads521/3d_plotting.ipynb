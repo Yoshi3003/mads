{
 "cells": [
  {
   "cell_type": "code",
   "execution_count": null,
   "metadata": {},
   "outputs": [],
   "source": [
    "# Let’s load in the usual packages\n",
    "import pandas as pd\n",
    "import numpy as np \n",
    "import matplotlib as mpl \n",
    "import matplotlib.pyplot as plt\n",
    "\n",
    "# and we’ll also load the mplot3d toolkit that is included with the Matplotlib. It's responsible for rendering\n",
    "# 2d plots in a 3d plan.\n",
    "from mpl_toolkits import mplot3d\n",
    "\n",
    "# Three-dimensional plotting is one of the functionalities that benefits immensely from viewing figures\n",
    "# interactively rather than statically in the notebook, so to use interactive figures, you can use %matplotlib\n",
    "# notebook rather than %matplotlib inline.\n",
    "%matplotlib notebook"
   ]
  },
  {
   "cell_type": "code",
   "execution_count": null,
   "metadata": {},
   "outputs": [],
   "source": [
    "# Now, we need some data points in three dimensions. Let’s explore the historic rental prices for some popular\n",
    "# cities in Orange County, CA, which I got from apartmentlist.com.\n",
    "RentCali2 = pd.read_csv('assets/RentCali2.csv')\n",
    "# The dataset contains information on rental prices from 2014 through 2018 for studio apts and 1 to 4-bedroom\n",
    "# properties. If we use .head()\n",
    "RentCali2.head()\n",
    "# we see we have columns for location, bedroom size, date and price, and the national price."
   ]
  },
  {
   "cell_type": "code",
   "execution_count": null,
   "metadata": {},
   "outputs": [],
   "source": [
    "# Now, we set up our figure and ax and pass it the keyword projection='3d' we can create a 3-dimensional axes.\n",
    "fig = plt.figure()\n",
    "ax = plt.axes(projection='3d')\n",
    "# Cool, notice the interactive nature of the visualization, if we move the cursor within the figure we can see\n",
    "# the x, y, and z values at the bottom change accordingly."
   ]
  },
  {
   "cell_type": "code",
   "execution_count": null,
   "metadata": {},
   "outputs": [],
   "source": [
    "# Let’s create a 3D scatter plot of the national price, price and year. So,..\n",
    "fig = plt.figure()\n",
    "ax = plt.axes(projection='3d')\n",
    "\n",
    "# We can pass those rental cali variables to x y and z.\n",
    "x = RentCali2['Year']\n",
    "y = RentCali2['Price']\n",
    "z = RentCali2['NationalPrice']\n",
    "\n",
    "# In analogy with the more common two-dimensional plots discussed earlier, these can be created using the\n",
    "# ax.plot3D and ax.scatter3D functions.\n",
    "ax.scatter3D(x, y, z)\n",
    "\n",
    "# Add labels\n",
    "ax.set_xlabel('Year')\n",
    "ax.set_ylabel('OC Price')\n",
    "ax.set_zlabel('National Price')\n",
    "\n",
    "plt.show()\n",
    "# Notice that by default, the scatter points have their transparency adjusted to give a sense of depth on the\n",
    "# page. But overall this isn’t really very informative data visualization. This is because two of our\n",
    "# variables, year and average national price have limited variance, and as a result the 3rd dimension isn't\n",
    "# really providing any new information. So, this is a great example of a poor application of 3D plotting"
   ]
  },
  {
   "cell_type": "code",
   "execution_count": null,
   "metadata": {},
   "outputs": [],
   "source": [
    "# Let’s try another example, with some new data.\n",
    "df=pd.DataFrame({'X': range(1,101), 'Y': np.random.randn(100)*15+range(1,101), 'Z': (np.random.randn(100)*15+range(1,101))*2 })\n",
    "\n",
    "df.head()\n",
    "    \n",
    "# plot\n",
    "fig = plt.figure()\n",
    "ax = plt.axes(projection='3d')\n",
    "\n",
    "ax.scatter3D(df['X'], df['Y'], df['Z'], c='skyblue', s=60)\n",
    "ax.view_init(30, 185) #This can be used to rotate the axes programatically.\n",
    "\n",
    "# This can be used to rotate the axes programatically.\n",
    "\n",
    "# Let’s give this data a story using the labels, for instance, we take the x axis to be kids representing the\n",
    "# number of households with children under 18), the y axis to be assistance representing the households\n",
    "# receiving public assistance), and z to represent rent (median rent) as the three variables.\n",
    "\n",
    "# Add labels\n",
    "ax.set_xlabel(' kids') #households with children under 18\n",
    "ax.set_ylabel('Assistance') # households receiving public assistance\n",
    "ax.set_zlabel('Rent ') #median rent\n",
    "\n",
    "plt.show()\n",
    "# Ok, so this looks it is providing a bit more information about how these variables move together. For\n",
    "# instance, there appears to be a positive linear relationship between the amount of assistance being\n",
    "# providedand the household rent. But it’s still a bit difficult to make a clear story here. One of the\n",
    "# main limitations of 3D visualizations is that they don’t work well as 2D charts: out of necessity we\n",
    "# lose information about the third dimensions, because we are only looking at a single projection of the\n",
    "# data onto the 2D screen. While the three-dimensional effect is sometimes difficult to see within a static\n",
    "# image, an interactive view can lead to some nice intuition about the layout of the points."
   ]
  }
 ],
 "metadata": {
  "kernelspec": {
   "display_name": "Python 3",
   "language": "python",
   "name": "python3"
  },
  "language_info": {
   "codemirror_mode": {
    "name": "ipython",
    "version": 3
   },
   "file_extension": ".py",
   "mimetype": "text/x-python",
   "name": "python",
   "nbconvert_exporter": "python",
   "pygments_lexer": "ipython3",
   "version": "3.7.3"
  }
 },
 "nbformat": 4,
 "nbformat_minor": 4
}
