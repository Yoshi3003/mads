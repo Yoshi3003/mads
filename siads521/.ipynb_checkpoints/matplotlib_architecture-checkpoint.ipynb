{
 "cells": [
  {
   "cell_type": "markdown",
   "metadata": {},
   "source": [
    "In this lecture we're going to start with a pretty gentle introduction to matplot lib and how you might\n",
    "start looking at data visually. Now, many of the other lectures will use other toolkits and be more of demos\n",
    "than walkthroughts, but here I want to try and point out some of the fundamentals underneath matplotlib and\n",
    "how they are actualized."
   ]
  },
  {
   "cell_type": "code",
   "execution_count": 1,
   "metadata": {},
   "outputs": [
    {
     "name": "stdout",
     "output_type": "stream",
     "text": [
      "Available matplotlib backends: ['tk', 'gtk', 'gtk3', 'wx', 'qt4', 'qt5', 'qt', 'osx', 'nbagg', 'notebook', 'agg', 'svg', 'pdf', 'ps', 'inline', 'ipympl', 'widget']\n"
     ]
    }
   ],
   "source": [
    "# The first thing we're going to do is to setup the matplotlib back end using a magic function. To see a list\n",
    "# of the backends available on this system we can just call\n",
    "%matplotlib --list"
   ]
  },
  {
   "cell_type": "code",
   "execution_count": 2,
   "metadata": {},
   "outputs": [],
   "source": [
    "# There are quite a few! Many of these will do nothing in a notebook - for instance, the gtk backend is going\n",
    "# to try and render our plots to a desktop application, not super helpful here. There are really two common\n",
    "# ways to use matplotlib in jupyter notebooks, the first being with an inline backend, which will store the\n",
    "# plots in the notebook data itself, and the second is with the notebook backend, which adds some basic\n",
    "# interaction like zooming. Let's configure this notebook to show plots inline\n",
    "%matplotlib inline"
   ]
  },
  {
   "cell_type": "code",
   "execution_count": 3,
   "metadata": {},
   "outputs": [],
   "source": [
    "# Ok, let's bring in this scripting layer we were talking about, called pyplot\n",
    "import matplotlib.pyplot as plt"
   ]
  },
  {
   "cell_type": "code",
   "execution_count": 4,
   "metadata": {},
   "outputs": [],
   "source": [
    "# One more important bit, and this deals with the Jupyter notebooks specifically. The Jupyter notebook\n",
    "# environment controls a number of different interaction mechanisms, and sometimes this seems a little bit\n",
    "# like magic. For instance, you should have already seen that when you type a variable name, say df for a\n",
    "# DataFrame, Jupyter will try and render that to the screen in a meaningful way. The Jupyter notebooks by\n",
    "# default change how matplotlib figures are render, and close figures at the end of cell execution. I find\n",
    "# this default a particularly questionable choice, and I'm going to turn it off here so we can delve a bit\n",
    "# deeper into matplotlib\n",
    "from IPython.display import set_matplotlib_close\n",
    "set_matplotlib_close(False)"
   ]
  },
  {
   "cell_type": "code",
   "execution_count": 5,
   "metadata": {},
   "outputs": [
    {
     "data": {
      "text/plain": [
       "<Figure size 432x288 with 0 Axes>"
      ]
     },
     "execution_count": 5,
     "metadata": {},
     "output_type": "execute_result"
    },
    {
     "data": {
      "text/plain": [
       "<Figure size 432x288 with 0 Axes>"
      ]
     },
     "metadata": {},
     "output_type": "display_data"
    }
   ],
   "source": [
    "# Ok, now that we've disabled some magic, let's dive into matplotlib through the pyplot scripting interface.\n",
    "# We can start with the very basics, creating a new figure\n",
    "plt.figure()"
   ]
  },
  {
   "cell_type": "code",
   "execution_count": 6,
   "metadata": {},
   "outputs": [
    {
     "data": {
      "text/plain": [
       "<Figure size 432x288 with 0 Axes>"
      ]
     },
     "execution_count": 6,
     "metadata": {},
     "output_type": "execute_result"
    }
   ],
   "source": [
    "# That doesn't look like it has done anything, but it's actually initialized the scripting layer with a new\n",
    "# figure where we can plot things. We can get a reference to this figure at any time by calling the get\n",
    "# current figure, or gcf() function\n",
    "fig=plt.gcf()\n",
    "fig"
   ]
  },
  {
   "cell_type": "code",
   "execution_count": 7,
   "metadata": {},
   "outputs": [
    {
     "data": {
      "text/plain": [
       "[1]"
      ]
     },
     "execution_count": 7,
     "metadata": {},
     "output_type": "execute_result"
    }
   ],
   "source": [
    "# When a figure is created in matplotlib it is also given an identifier. We can ask the pyplot scripting layer\n",
    "# to tell us about all of the figures which currently exist by looking at the figure numbers\n",
    "plt.get_fignums()"
   ]
  },
  {
   "cell_type": "code",
   "execution_count": 8,
   "metadata": {},
   "outputs": [
    {
     "data": {
      "text/plain": [
       "[]"
      ]
     },
     "execution_count": 8,
     "metadata": {},
     "output_type": "execute_result"
    }
   ],
   "source": [
    "# A figure contains an Axes object. We can get that object directly from the figure if we want to using the\n",
    "# figure's get_axes() function\n",
    "fig.get_axes()"
   ]
  },
  {
   "cell_type": "code",
   "execution_count": 9,
   "metadata": {},
   "outputs": [
    {
     "data": {
      "text/plain": [
       "<AxesSubplot:>"
      ]
     },
     "execution_count": 9,
     "metadata": {},
     "output_type": "execute_result"
    }
   ],
   "source": [
    "# But actually, this isn't very common when using pyplot, because we think more in a scripting method, which\n",
    "# is more imperitive in nature (that is, we're issueing commands to the system), than object oriented in\n",
    "# nature. With matplotlib you can get both, and this is both powerful and can be confusing. So we can use\n",
    "# the plt.gca() function to get the current axes\n",
    "plt.gca()"
   ]
  },
  {
   "cell_type": "code",
   "execution_count": 10,
   "metadata": {},
   "outputs": [
    {
     "data": {
      "text/plain": [
       "[<matplotlib.lines.Line2D at 0x1c98df945c8>]"
      ]
     },
     "execution_count": 10,
     "metadata": {},
     "output_type": "execute_result"
    }
   ],
   "source": [
    "# This seems all a bit pedantic though - we're talking about figures and axes but we can't see anything! Let's\n",
    "# plot some data. If we call the pyplot plot() function we can send in a couple of lists of points to plot.\n",
    "# underneath the function is actually going to get the current figure and current axes object for us, and\n",
    "# plot the points on that\n",
    "plt.plot([1,2,3],[4,6,10])"
   ]
  },
  {
   "cell_type": "code",
   "execution_count": 11,
   "metadata": {},
   "outputs": [
    {
     "data": {
      "image/png": "[encoded data removed]",
      "text/plain": [
       "<Figure size 432x288 with 1 Axes>"
      ]
     },
     "metadata": {
      "needs_background": "light"
     },
     "output_type": "display_data"
    }
   ],
   "source": [
    "# Ok, so this is where things might be a bit confusing. We just see this lines list with one line in it coming\n",
    "# back. We have to tell pyplot that we actually want to render the image now to our backend. We do this with\n",
    "# .show()\n",
    "plt.show()"
   ]
  },
  {
   "cell_type": "code",
   "execution_count": 12,
   "metadata": {},
   "outputs": [
    {
     "data": {
      "image/png": "[encoded data removed]",
      "text/plain": [
       "<Figure size 432x288 with 1 Axes>"
      ]
     },
     "metadata": {
      "needs_background": "light"
     },
     "output_type": "display_data"
    }
   ],
   "source": [
    "# Awesome! Our first figure. We can see tat the lists of numbers we passed are the x and y parameters\n",
    "# respectively for three points, and for some reason matplotlib decided to connect these points in lines.\n",
    "# It's also worth noticing that there is some work matplotlib did for us, including drawing axis objects and\n",
    "# setting the scale for our plot.\n",
    "\n",
    "# Let's demystify this a bit. Remember that there are two axis objects for one axes object, the x axis and the\n",
    "# y axis. We can get these objects directly if we want to\n",
    "x=plt.gca().get_xaxis()\n",
    "y=plt.gca().get_yaxis()\n",
    "\n",
    "# Once we have the Axis object we can inspect them and change them. Let's update some labels in the figure\n",
    "x.set_label_text(\"Numbers one through three!\")\n",
    "y.set_label_text(\"Up to ten!\")\n",
    "\n",
    "# And let's make sure to rerender our image\n",
    "plt.show()"
   ]
  },
  {
   "cell_type": "code",
   "execution_count": 13,
   "metadata": {},
   "outputs": [
    {
     "data": {
      "image/png": "[encoded data removed]",
      "text/plain": [
       "<Figure size 432x288 with 1 Axes>"
      ]
     },
     "metadata": {
      "needs_background": "light"
     },
     "output_type": "display_data"
    }
   ],
   "source": [
    "# Ok, great. If we want to plot more data onto this same plot we can just call the pyplot plot() function\n",
    "# again. Underneath this is looking up the current active axes and dropping the data on there\n",
    "plt.plot([1,22,3],[4,6,10])\n",
    "plt.show()"
   ]
  },
  {
   "cell_type": "code",
   "execution_count": null,
   "metadata": {},
   "outputs": [],
   "source": [
    "# You'll notice that when we did this matplotlib dealt with all of the axis scaling for us, and put the new\n",
    "# data series directly on in a new color. Any time we want to start up a new figure, we just call plt.figure()"
   ]
  },
  {
   "cell_type": "code",
   "execution_count": null,
   "metadata": {},
   "outputs": [],
   "source": [
    "# As we discussed, matplotlib orients a number of different renderable objects called Artists in the artists\n",
    "# layer and that can be passed to the back end for rendering. You actually can control most of these, but the\n",
    "# scripting interface that we're working in, pyplot, is hiding a lot of this functionality. Let's take a look\n",
    "# at that object inheritence diagram again"
   ]
  },
  {
   "cell_type": "code",
   "execution_count": null,
   "metadata": {},
   "outputs": [],
   "source": [
    "%%html\n",
    "<img src='https://matplotlib.org/3.1.1/_images/inheritance-b12a398b08039fbb54e0dbb3eb616f39e9d9c069.png' />"
   ]
  },
  {
   "cell_type": "code",
   "execution_count": null,
   "metadata": {},
   "outputs": [],
   "source": [
    "# That diagram shows almost everything inherits from the Artist class. And the Artist class has a nice\n",
    "# function called get_children, which contains a list of all of the children of this artist. Let's see what\n",
    "# children it has\n",
    "plt.gca().get_children()"
   ]
  },
  {
   "cell_type": "code",
   "execution_count": null,
   "metadata": {},
   "outputs": [],
   "source": [
    "# Ok, here's the guts of our plot! The axes object actually contains a whole bunch of children which are\n",
    "# Artists themselves. Splines, XAxis, Text, etc. All of these things have properties which we can change and\n",
    "# play with. Now, you won't normally go this deep into the matplotlib architecture, but I want you to be aware\n",
    "# of what's in here -- you can read the matplotlib docs to understand more about any of these objects and\n",
    "# their properties. We'll discover some together over rest of this course, but you're really going to have to\n",
    "# use secondary resources such as textbooks, websites, and most importantly, the online library docs for\n",
    "# matplotlib in order to create truly compelling graphics."
   ]
  }
 ],
 "metadata": {
  "kernelspec": {
   "display_name": "Python 3",
   "language": "python",
   "name": "python3"
  },
  "language_info": {
   "codemirror_mode": {
    "name": "ipython",
    "version": 3
   },
   "file_extension": ".py",
   "mimetype": "text/x-python",
   "name": "python",
   "nbconvert_exporter": "python",
   "pygments_lexer": "ipython3",
   "version": "3.7.9"
  }
 },
 "nbformat": 4,
 "nbformat_minor": 4
}
