{
 "cells": [
  {
   "cell_type": "markdown",
   "metadata": {},
   "source": [
    "# Exploring Professor Chris Brooks' Strava data in Summer 2019\n",
    "\n",
    "In this notebook, I will be attempting to make sense of the Strava data collected from Professor Chris Brooks exercise routine in the summer of 2019. I will split the assignment into the following section: retrieving and cleaning dataset, utilizing visual analysis techniques to make sense of data, and finally providing a conclusion based on the visualizations to Professor Brooks' activities."
   ]
  },
  {
   "cell_type": "markdown",
   "metadata": {},
   "source": [
    "## Importing the data"
   ]
  },
  {
   "cell_type": "code",
   "execution_count": 4,
   "metadata": {},
   "outputs": [],
   "source": [
    "# import the required dependencies\n",
    "import pandas as pd\n",
    "import numpy as np"
   ]
  },
  {
   "cell_type": "code",
   "execution_count": 7,
   "metadata": {},
   "outputs": [
    {
     "data": {
      "text/html": [
       "<div>\n",
       "<style scoped>\n",
       "    .dataframe tbody tr th:only-of-type {\n",
       "        vertical-align: middle;\n",
       "    }\n",
       "\n",
       "    .dataframe tbody tr th {\n",
       "        vertical-align: top;\n",
       "    }\n",
       "\n",
       "    .dataframe thead th {\n",
       "        text-align: right;\n",
       "    }\n",
       "</style>\n",
       "<table border=\"1\" class=\"dataframe\">\n",
       "  <thead>\n",
       "    <tr style=\"text-align: right;\">\n",
       "      <th></th>\n",
       "      <th>Air Power</th>\n",
       "      <th>Cadence</th>\n",
       "      <th>Form Power</th>\n",
       "      <th>Ground Time</th>\n",
       "      <th>Leg Spring Stiffness</th>\n",
       "      <th>Power</th>\n",
       "      <th>Vertical Oscillation</th>\n",
       "      <th>altitude</th>\n",
       "      <th>cadence</th>\n",
       "      <th>datafile</th>\n",
       "      <th>...</th>\n",
       "      <th>enhanced_speed</th>\n",
       "      <th>fractional_cadence</th>\n",
       "      <th>heart_rate</th>\n",
       "      <th>position_lat</th>\n",
       "      <th>position_long</th>\n",
       "      <th>speed</th>\n",
       "      <th>timestamp</th>\n",
       "      <th>unknown_87</th>\n",
       "      <th>unknown_88</th>\n",
       "      <th>unknown_90</th>\n",
       "    </tr>\n",
       "  </thead>\n",
       "  <tbody>\n",
       "    <tr>\n",
       "      <th>0</th>\n",
       "      <td>NaN</td>\n",
       "      <td>NaN</td>\n",
       "      <td>NaN</td>\n",
       "      <td>NaN</td>\n",
       "      <td>NaN</td>\n",
       "      <td>NaN</td>\n",
       "      <td>NaN</td>\n",
       "      <td>NaN</td>\n",
       "      <td>0.0</td>\n",
       "      <td>activities/2675855419.fit.gz</td>\n",
       "      <td>...</td>\n",
       "      <td>0.000</td>\n",
       "      <td>0.0</td>\n",
       "      <td>68.0</td>\n",
       "      <td>NaN</td>\n",
       "      <td>NaN</td>\n",
       "      <td>0.0</td>\n",
       "      <td>2019-07-08 21:04:03</td>\n",
       "      <td>0.0</td>\n",
       "      <td>300.0</td>\n",
       "      <td>NaN</td>\n",
       "    </tr>\n",
       "    <tr>\n",
       "      <th>1</th>\n",
       "      <td>NaN</td>\n",
       "      <td>NaN</td>\n",
       "      <td>NaN</td>\n",
       "      <td>NaN</td>\n",
       "      <td>NaN</td>\n",
       "      <td>NaN</td>\n",
       "      <td>NaN</td>\n",
       "      <td>NaN</td>\n",
       "      <td>0.0</td>\n",
       "      <td>activities/2675855419.fit.gz</td>\n",
       "      <td>...</td>\n",
       "      <td>0.000</td>\n",
       "      <td>0.0</td>\n",
       "      <td>68.0</td>\n",
       "      <td>NaN</td>\n",
       "      <td>NaN</td>\n",
       "      <td>0.0</td>\n",
       "      <td>2019-07-08 21:04:04</td>\n",
       "      <td>0.0</td>\n",
       "      <td>300.0</td>\n",
       "      <td>NaN</td>\n",
       "    </tr>\n",
       "    <tr>\n",
       "      <th>2</th>\n",
       "      <td>NaN</td>\n",
       "      <td>NaN</td>\n",
       "      <td>NaN</td>\n",
       "      <td>NaN</td>\n",
       "      <td>NaN</td>\n",
       "      <td>NaN</td>\n",
       "      <td>NaN</td>\n",
       "      <td>NaN</td>\n",
       "      <td>54.0</td>\n",
       "      <td>activities/2675855419.fit.gz</td>\n",
       "      <td>...</td>\n",
       "      <td>1.316</td>\n",
       "      <td>0.0</td>\n",
       "      <td>71.0</td>\n",
       "      <td>NaN</td>\n",
       "      <td>NaN</td>\n",
       "      <td>1316.0</td>\n",
       "      <td>2019-07-08 21:04:07</td>\n",
       "      <td>0.0</td>\n",
       "      <td>300.0</td>\n",
       "      <td>NaN</td>\n",
       "    </tr>\n",
       "    <tr>\n",
       "      <th>3</th>\n",
       "      <td>NaN</td>\n",
       "      <td>NaN</td>\n",
       "      <td>NaN</td>\n",
       "      <td>NaN</td>\n",
       "      <td>NaN</td>\n",
       "      <td>NaN</td>\n",
       "      <td>NaN</td>\n",
       "      <td>3747.0</td>\n",
       "      <td>77.0</td>\n",
       "      <td>activities/2675855419.fit.gz</td>\n",
       "      <td>...</td>\n",
       "      <td>1.866</td>\n",
       "      <td>0.0</td>\n",
       "      <td>77.0</td>\n",
       "      <td>504432050.0</td>\n",
       "      <td>-999063637.0</td>\n",
       "      <td>1866.0</td>\n",
       "      <td>2019-07-08 21:04:14</td>\n",
       "      <td>0.0</td>\n",
       "      <td>100.0</td>\n",
       "      <td>NaN</td>\n",
       "    </tr>\n",
       "    <tr>\n",
       "      <th>4</th>\n",
       "      <td>NaN</td>\n",
       "      <td>NaN</td>\n",
       "      <td>NaN</td>\n",
       "      <td>NaN</td>\n",
       "      <td>NaN</td>\n",
       "      <td>NaN</td>\n",
       "      <td>NaN</td>\n",
       "      <td>3798.0</td>\n",
       "      <td>77.0</td>\n",
       "      <td>activities/2675855419.fit.gz</td>\n",
       "      <td>...</td>\n",
       "      <td>1.894</td>\n",
       "      <td>0.0</td>\n",
       "      <td>80.0</td>\n",
       "      <td>504432492.0</td>\n",
       "      <td>-999064534.0</td>\n",
       "      <td>1894.0</td>\n",
       "      <td>2019-07-08 21:04:15</td>\n",
       "      <td>0.0</td>\n",
       "      <td>100.0</td>\n",
       "      <td>NaN</td>\n",
       "    </tr>\n",
       "  </tbody>\n",
       "</table>\n",
       "<p>5 rows × 22 columns</p>\n",
       "</div>"
      ],
      "text/plain": [
       "   Air Power  Cadence  Form Power  Ground Time  Leg Spring Stiffness  Power  \\\n",
       "0        NaN      NaN         NaN          NaN                   NaN    NaN   \n",
       "1        NaN      NaN         NaN          NaN                   NaN    NaN   \n",
       "2        NaN      NaN         NaN          NaN                   NaN    NaN   \n",
       "3        NaN      NaN         NaN          NaN                   NaN    NaN   \n",
       "4        NaN      NaN         NaN          NaN                   NaN    NaN   \n",
       "\n",
       "   Vertical Oscillation  altitude  cadence                      datafile  ...  \\\n",
       "0                   NaN       NaN      0.0  activities/2675855419.fit.gz  ...   \n",
       "1                   NaN       NaN      0.0  activities/2675855419.fit.gz  ...   \n",
       "2                   NaN       NaN     54.0  activities/2675855419.fit.gz  ...   \n",
       "3                   NaN    3747.0     77.0  activities/2675855419.fit.gz  ...   \n",
       "4                   NaN    3798.0     77.0  activities/2675855419.fit.gz  ...   \n",
       "\n",
       "   enhanced_speed  fractional_cadence  heart_rate  position_lat  \\\n",
       "0           0.000                 0.0        68.0           NaN   \n",
       "1           0.000                 0.0        68.0           NaN   \n",
       "2           1.316                 0.0        71.0           NaN   \n",
       "3           1.866                 0.0        77.0   504432050.0   \n",
       "4           1.894                 0.0        80.0   504432492.0   \n",
       "\n",
       "   position_long   speed            timestamp  unknown_87 unknown_88  \\\n",
       "0            NaN     0.0  2019-07-08 21:04:03         0.0      300.0   \n",
       "1            NaN     0.0  2019-07-08 21:04:04         0.0      300.0   \n",
       "2            NaN  1316.0  2019-07-08 21:04:07         0.0      300.0   \n",
       "3   -999063637.0  1866.0  2019-07-08 21:04:14         0.0      100.0   \n",
       "4   -999064534.0  1894.0  2019-07-08 21:04:15         0.0      100.0   \n",
       "\n",
       "   unknown_90  \n",
       "0         NaN  \n",
       "1         NaN  \n",
       "2         NaN  \n",
       "3         NaN  \n",
       "4         NaN  \n",
       "\n",
       "[5 rows x 22 columns]"
      ]
     },
     "execution_count": 7,
     "metadata": {},
     "output_type": "execute_result"
    }
   ],
   "source": [
    "df = pd.read_csv('strava.csv')\n",
    "df.head()"
   ]
  },
  {
   "cell_type": "code",
   "execution_count": 13,
   "metadata": {},
   "outputs": [
    {
     "data": {
      "text/plain": [
       "(40649, 22)"
      ]
     },
     "execution_count": 13,
     "metadata": {},
     "output_type": "execute_result"
    }
   ],
   "source": [
    "# let's see how much data are we working with\n",
    "df.shape"
   ]
  },
  {
   "cell_type": "markdown",
   "metadata": {},
   "source": [
    "## Interpreting the rows\n",
    "\n",
    "When making sense of this dataset, the first thing that we can try to do is to look at the timestamp column. Is each row a dataset captured during his entire exercise session in a day? Or is it in an interval? Is it per seconds? The timestamp column appears to contain timestamp in the format of 'yyyy-mm-dd hh:mm:ss'. We can see that it indicates that each row represents data that was captured once every few seconds during his exercise.\n",
    "\n",
    "With that knowledge, we can begin our analysis by grouping the data into sessions."
   ]
  },
  {
   "cell_type": "code",
   "execution_count": 21,
   "metadata": {},
   "outputs": [
    {
     "data": {
      "text/plain": [
       "0       2019-07-08 21:04:03\n",
       "1       2019-07-08 21:04:04\n",
       "2       2019-07-08 21:04:07\n",
       "3       2019-07-08 21:04:14\n",
       "4       2019-07-08 21:04:15\n",
       "                ...        \n",
       "40644   2019-10-03 23:04:54\n",
       "40645   2019-10-03 23:04:56\n",
       "40646   2019-10-03 23:04:57\n",
       "40647   2019-10-03 23:05:02\n",
       "40648   2019-10-03 23:05:05\n",
       "Name: datetime, Length: 40649, dtype: datetime64[ns]"
      ]
     },
     "execution_count": 21,
     "metadata": {},
     "output_type": "execute_result"
    }
   ],
   "source": [
    "# convert the timestamp column into datetime\n",
    "df['datetime'] = pd.to_datetime(df['timestamp'])\n",
    "df['datetime']"
   ]
  },
  {
   "cell_type": "markdown",
   "metadata": {},
   "source": [
    "From the output above, we see that the dataset contains timestamp ranged from his exercise data in July, up until October, for the timespan of 4 months period. We will then try to group the exercise into sessions. A session can be defined as an exercise that is ongoing, with an acceptable rest period up to 30 minutes. If over the specified of resting period, then we consider it as a new exercise session."
   ]
  },
  {
   "cell_type": "code",
   "execution_count": 48,
   "metadata": {},
   "outputs": [
    {
     "data": {
      "text/plain": [
       "count                        40648\n",
       "mean     0 days 00:03:05.102883290\n",
       "std      0 days 02:04:36.469630194\n",
       "min                0 days 00:00:01\n",
       "25%                0 days 00:00:01\n",
       "50%                0 days 00:00:01\n",
       "75%                0 days 00:00:05\n",
       "max               11 days 04:54:11\n",
       "Name: datetime, dtype: object"
      ]
     },
     "execution_count": 48,
     "metadata": {},
     "output_type": "execute_result"
    }
   ],
   "source": [
    "# Let's explore the date and time stamp further by investigating the differences in the consecutive timestamps\n",
    "tdiff = df['datetime'].diff()\n",
    "tdiff.describe()"
   ]
  },
  {
   "cell_type": "code",
   "execution_count": 55,
   "metadata": {},
   "outputs": [
    {
     "data": {
      "text/plain": [
       "datetime    datetime           \n",
       "2019-07-08  2019-07-08 21:04:03    1\n",
       "            2019-07-08 21:04:04    1\n",
       "            2019-07-08 21:04:07    1\n",
       "            2019-07-08 21:04:14    1\n",
       "            2019-07-08 21:04:15    1\n",
       "                                  ..\n",
       "2019-10-03  2019-10-03 23:04:54    1\n",
       "            2019-10-03 23:04:56    1\n",
       "            2019-10-03 23:04:57    1\n",
       "            2019-10-03 23:05:02    1\n",
       "            2019-10-03 23:05:05    1\n",
       "Name: datetime, Length: 40649, dtype: int64"
      ]
     },
     "execution_count": 55,
     "metadata": {},
     "output_type": "execute_result"
    }
   ],
   "source": [
    "datetime = df['datetime'].groupby(df['datetime'].dt.floor('d')).value_counts()\n",
    "datetime"
   ]
  }
 ],
 "metadata": {
  "kernelspec": {
   "display_name": "Python 3",
   "language": "python",
   "name": "python3"
  },
  "language_info": {
   "codemirror_mode": {
    "name": "ipython",
    "version": 3
   },
   "file_extension": ".py",
   "mimetype": "text/x-python",
   "name": "python",
   "nbconvert_exporter": "python",
   "pygments_lexer": "ipython3",
   "version": "3.7.9"
  }
 },
 "nbformat": 4,
 "nbformat_minor": 4
}
