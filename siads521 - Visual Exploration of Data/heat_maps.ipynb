{
 "cells": [
  {
   "cell_type": "markdown",
   "metadata": {},
   "source": [
    "In this demonstration we're using a library called the pandas_datareader, which brings large commonly used\n",
    "datasets from public places off the web and into pandas. But this might not work in the Coursera\n",
    "environment, or your home environment. Not to fear, we've also included the data in assets/stocks.csv. So\n",
    "you can dig in just three cells down to start learning about heatmaps, but if you want to see a bit of how\n",
    "we prepared the data check out the next couple of cells."
   ]
  },
  {
   "cell_type": "code",
   "execution_count": null,
   "metadata": {},
   "outputs": [],
   "source": [
    "#Let's play with some finance data for this example. Let's load in all the usual suspects that we will need,\n",
    "#like pandas matplotlib.\n",
    "import pandas as pd\n",
    "import numpy as np\n",
    "import matplotlib as mpl\n",
    "mpl.get_backend()\n",
    "import matplotlib.pyplot as plt\n",
    "\n",
    "#Now, to get the stock data we will need the datetime, and pandas-datareader package.\n",
    "#the pandas-data reader package is pretty neat, it allows you to read in data from sources such as\n",
    "#Google, World Bank, and yahoo. If you're following along, you'll need to install pandas data reader\n",
    "#using the terminal, just open a new terminal and type pip install pandas-datareader and you should be all good.\n",
    "import pandas_datareader as pdf\n",
    "import datetime"
   ]
  },
  {
   "cell_type": "code",
   "execution_count": null,
   "metadata": {},
   "outputs": [],
   "source": [
    "#Let's write a little function to download some stocks, so we can explore them using heatmaps.\n",
    "\n",
    "#We can easily do this by making a function that takes in the ticker or symbol of the stock or stocks that we \n",
    "#want, a start date and an end date.\n",
    "\n",
    "def get(tickers, startdate, enddate):\n",
    "    def data(ticker): #The next function that you see, data(), then takes the ticker to get your\n",
    "        # data from the startdate to the enddate\n",
    "        return (pdf.get_data_yahoo(ticker, start=startdate, end=enddate)) #and returns it so that the get() function can continue along \n",
    "    datas = map(data,tickers) # We will map the data with the right tickers and\n",
    "    return(pd.concat(datas, keys=tickers, names=['Ticker', 'Date'])) # returns a Dataframe that\n",
    "#concatenates the mapped data with tickers.\n",
    "\n",
    "tickers = ['AAPL', 'MSFT', 'IBM', 'GOOG', '^GSPC']\n",
    "#Uncomment this line to actually retrieve the data\n",
    "#stocks = get(tickers, datetime.datetime(2006, 1, 1), datetime.datetime(2016, 1, 1))\n",
    "\n",
    "#So, in this code we are extracting the stock data from Apple, Microsoft, IBM, Google, and the S&P500 from\n",
    "#January 1st, 2006 to January 1st 2016 and gathering it into one nice big DataFrame,\n",
    "\n",
    "#stocks.head() #Using the .head we can see that the variables include the high, low, open, close, \n",
    "#volume, and adj close stock values for each day and company.\n",
    "#uncomment this line to save a copy of the data\n",
    "#stocks.reset_index().to_csv(\"assets/stocks.csv\", index=False)"
   ]
  },
  {
   "cell_type": "code",
   "execution_count": null,
   "metadata": {},
   "outputs": [],
   "source": [
    "#You can also find the data in the course material if you have any issues with this part\n",
    "#So if you prefer, you can also just load in the data from a csv.\n",
    "\n",
    "import pandas as pd\n",
    "import numpy as np\n",
    "import matplotlib as mpl\n",
    "mpl.get_backend()\n",
    "import matplotlib.pyplot as plt\n",
    "\n",
    "#Load the Stocks.csv dataset\n",
    "stocks = pd.read_csv(\"assets/stocks.csv\")"
   ]
  },
  {
   "cell_type": "code",
   "execution_count": null,
   "metadata": {},
   "outputs": [],
   "source": [
    "#To get Python to manipulate how a date is formatted, we need to import the native datetime module\n",
    "from datetime import datetime\n",
    "\n",
    "#Once we have that, we can make sure our date is in the correct format\n",
    "stocks[\"Date\"] = pd.to_datetime(stocks[\"Date\"])\n",
    "\n",
    "#and create a new variable to hold the year, which we will format to be full year name.\n",
    "stocks[\"Year\"] = stocks[\"Date\"].dt.strftime(\"%Y\")\n",
    "\n",
    "#Let's also change the ticker column name to company\n",
    "stocks[\"Company\"] = stocks[\"Ticker\"]\n",
    "\n",
    "#cool, let's check it out\n",
    "stocks.head()"
   ]
  },
  {
   "cell_type": "code",
   "execution_count": null,
   "metadata": {},
   "outputs": [],
   "source": [
    "#Ok, so that worked nicely, next let's pull out the Company, Year, and \"High\" stock price value for each\n",
    "#company so that we can focus on that\n",
    "\n",
    "stockshigh = stocks[[\"Company\", \"Year\", \"High\"]] # We can call the new data frame \"stocks high\".\n",
    "\n",
    "#and check it out\n",
    "stockshigh.head()"
   ]
  },
  {
   "cell_type": "code",
   "execution_count": null,
   "metadata": {},
   "outputs": [],
   "source": [
    "#Unfortunately, we can't supply the whole Dataframe to matplotlib's heatmap directly, since it expects\n",
    "#company name as columns, date as index, and the High price as values.\n",
    "\n",
    "#If you are familiar with Microsoft Excel, you might have experience using pivot tables. Pivot tables are a\n",
    "#powerful technique to summarise the levels or values of a particular variable\n",
    "\n",
    "#Well, we can also do this using panda's .pivot table function. We'll just create a new data frame called\n",
    "#stocks high_pivot, and pass the fuction our stocks high dataframe and specify tha twe want our index to be\n",
    "#Year, and our columns to be Company.\n",
    "\n",
    "#Inside the pivot table we can also pass numpy's mean function to get the mean of high stock price for each\n",
    "#month across all the companies.\n",
    "\n",
    "stockshigh_pivot = stockshigh.pivot_table(index=\"Year\", columns = \"Company\", aggfunc=np.mean)\n",
    "\n",
    "stockshigh_pivot = pd.DataFrame(stockshigh_pivot) #and put it in correct form\n",
    "\n",
    "stockshigh_pivot.head()\n",
    "#This is giving us the mean high stock value for unique combinations of year and company.\n",
    "#This way we can use the heatmap to explore patterns in each company's high stock price across each Year.\n"
   ]
  },
  {
   "cell_type": "code",
   "execution_count": null,
   "metadata": {},
   "outputs": [],
   "source": [
    "#Let's set up the visualization by first creating our fig and axis objects using matplotlib's plt.subplots()\n",
    "#function. Since, matplotlib's plt.subplots() function returns a tuple containing a figure and axes object(s)\n",
    "#we can unpack this tuple into the variables fig and ax, which is useful if we want to change figure-level\n",
    "#attributes.\n",
    "\n",
    "#For instance, we can specify the figure height and width size using matplotlib's figsize attribute\n",
    "#This creates a figure object, which has a width of 20 inches and 15 in height.\n",
    "\n",
    "fig, ax = plt.subplots(1,1, figsize=(20,15))\n",
    "\n",
    "#The heatmap itself is an imshow plot, so we will just pass this the data frame \"stockshigh_pivot\" and set the\n",
    "#color with cmap to blue purple shades.\n",
    "im = plt.imshow(stockshigh_pivot, cmap =\"BuPu\")\n",
    "\n",
    "#Next, we'll set the x ticks to be the company names, and the y ticks to be the year.\n",
    "plt.xticks(range(len(stockshigh_pivot.columns)), stockshigh_pivot.columns)\n",
    "plt.yticks(range(len(stockshigh_pivot)), stockshigh_pivot.index)\n",
    "\n",
    "#The cbar can hold our color bar which we will pass the im figure we just created.\n",
    "#We'll need to use the fraction and pad arguments to scale this to a size we want.\n",
    "#The fraction controls the bar height and the pad controls how much white space there is between the\n",
    "#figure and the bar.\n",
    "cbar = plt.colorbar(im, fraction=0.086, pad=0.04)\n",
    "\n",
    "#Finally, we'll just give the figure axes lables and a title\n",
    "\n",
    "ax.set_title(\"Heatmap of High Stock Price from 2006 to 2016\")\n",
    "ax.set_xlabel(\"Company\")\n",
    "ax.set_ylabel(\"Year\")\n",
    "#Ok, so now we have a categorical heatmap that allows us to compare the high stock value overtime\n",
    "#within and across each company\n",
    "#The first thing I'm noticing is that this isn't a very useful figure."
   ]
  },
  {
   "cell_type": "code",
   "execution_count": null,
   "metadata": {},
   "outputs": [],
   "source": [
    "#Alright, so hopefully you took a moment to ponder that and noticed that the values for GSCP are significantly\n",
    "#higher than the other companies. As a result, we aren't really seeing the benefits of the color coding on the \n",
    "#heat map virtualization\n",
    "#Scaling the data (to the Z-scale) just helps to \"even out\" any creases that may still exist in\n",
    "#the data, which helps for visualization\n",
    "\n",
    "#So, let's norm the values and plot this again.\n",
    "\n",
    "#load in zscore\n",
    "from scipy.stats import zscore\n",
    "stockshigh_pivot_norm = stockshigh_pivot.apply(zscore) #Creating normed dataframe\n",
    "\n",
    "#and plot the normed values\n",
    "fig, ax = plt.subplots(1,1, figsize=(20,15))\n",
    "im = plt.imshow(stockshigh_pivot_norm, cmap = \"BuPu\")\n",
    "\n",
    "plt.xticks(range(len(stockshigh_pivot_norm.columns)), stockshigh_pivot.columns)\n",
    "plt.yticks(range(len(stockshigh_pivot_norm)), stockshigh_pivot.index)\n",
    "cbar = plt.colorbar(im, fraction=0.086, pad=0.04)\n",
    "\n",
    "ax.set_title(\"Heatmap of High Stock Price from 2006 to 2016\")\n",
    "ax.set_xlabel(\"Company\")\n",
    "ax.set_ylabel(\"Year\")\n",
    "\n",
    "#Ok, now we can see that the high stock price has been increasing over time for all coompanies, because the\n",
    "#boxes are getting darker over time. We can also compare companies and see that for instance, IBM's \n",
    "#high stock value was much lower than others in 2015."
   ]
  }
 ],
 "metadata": {
  "kernelspec": {
   "display_name": "Python 3",
   "language": "python",
   "name": "python3"
  },
  "language_info": {
   "codemirror_mode": {
    "name": "ipython",
    "version": 3
   },
   "file_extension": ".py",
   "mimetype": "text/x-python",
   "name": "python",
   "nbconvert_exporter": "python",
   "pygments_lexer": "ipython3",
   "version": "3.7.3"
  }
 },
 "nbformat": 4,
 "nbformat_minor": 4
}
