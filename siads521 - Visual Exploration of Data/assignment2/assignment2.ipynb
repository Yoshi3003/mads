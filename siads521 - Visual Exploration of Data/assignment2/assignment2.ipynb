{
 "cells": [
  {
   "cell_type": "markdown",
   "metadata": {},
   "source": [
    "# Assignment 2 - Continuous Visualization\n",
    "\n",
    "Imagine you're a data scientist working for the University of Michigan teaching and learning team, and one of your job responsibilities is to offer instructional advices based on course performance metrics. As part of this activity you might be asked to analyze student's grade distribution in a range of undergraduate and graduate level courses to draw comparison between courses and come up with insights regarding how to enhance residential education across different subjects."
   ]
  },
  {
   "cell_type": "markdown",
   "metadata": {},
   "source": [
    "## Question 1 Draw t-distribution probability density plot (30%)\n",
    "\n",
    "Your first task is to draw a t-distribution probability density plot and demonstrate to the team why sample size is an important factor if you want to articulate performance issues. So you must make a well-designed and well-annotated probability density plot under the `make_prob_plot` function that depicts the samples with different sample sizes. We have included a function to sample from the t-distribution for you in `make_t_distribution`.\n",
    "\n",
    "The elements requested by the management team for the first visualization are:\n",
    "* Generate random t-distribution samples with sample size 10, 100, 1000 and 5000, respectively\n",
    "* Each sample should set the same mean 0 and standard error as 2 to better compare with each other. Hint: You can take the t-distribution, use the `pdf` function and pass the x-axis as argument to obtain the probability density (which is the height).\n",
    "* Plot each of the 4 samples using a **probability density plot** within a single figure so that each of the t-distribution curves is in a different color. \n",
    "* Draw a normal distribution with the same parameters (mean 0 and standard deviation 2) on top of the 4 t-distribution curves using another different color. You can figure out how to sample from the normal distribution by inspecting our example code for the t-distribution and reading the docs online.\n",
    "* (Optional) If you like, you can use a different line type for each probability density plot to improve your visualization.\n",
    "* Use legend attribute to indicate the distribution and sample size corresponding with the color curve. For example, you may specify \"t-distribution, n = 5000\" to indicate that a certain color curve represents the t-distribution with 5000 samples.\n",
    "\n",
    "Also, an ecclectic fellow with a name tag reading \"Chris\" left this post it note on your desk with the words \"kinda like this\".\n",
    "![](assets/dist.jpg)"
   ]
  },
  {
   "cell_type": "code",
   "execution_count": 12,
   "metadata": {},
   "outputs": [
    {
     "data": {
      "image/png": "[encoded data removed]",
      "text/plain": [
       "<Figure size 432x288 with 1 Axes>"
      ]
     },
     "metadata": {
      "needs_background": "light"
     },
     "output_type": "display_data"
    }
   ],
   "source": [
    "import scipy.stats as stats\n",
    "import numpy as np\n",
    "import matplotlib.pyplot as plt\n",
    "import pandas as pd\n",
    "\n",
    "def make_t_distribution(sample_size, mean, sd):\n",
    "    t_sample = stats.t.rvs(sample_size - 1, mean, sd, sample_size) # Random t-distribution sample\n",
    "    sample_mean = np.mean(t_sample) # sample mean\n",
    "    sample_std = np.std(t_sample) # sample standard deviation\n",
    "    t_dist = stats.t(df = sample_size - 1, loc = sample_mean, scale = sample_std) # make a t-distribution based on the sample\n",
    "    x_axis = np.linspace(t_dist.ppf(0.0001), t_dist.ppf(0.9999), 500) # Generate an x-axis based on t-quantile values\n",
    "    \n",
    "    return t_dist, x_axis\n",
    "\n",
    "def make_prob_plot():\n",
    "    fig, ax = plt.subplots(1, 1)\n",
    "    df = 2.74\n",
    "    x = np.linspace(stats.t.ppf(0.01, df), stats.t.ppf(0.99, df), 100)\n",
    "    ax.plot(x, stats.t.pdf(x, df), 'r', lw=5, label='t pdf')\n",
    "\n",
    "make_prob_plot()"
   ]
  },
  {
   "cell_type": "markdown",
   "metadata": {},
   "source": [
    "## Question 2 Grade Distribution Comparison (40%)\n",
    "\n",
    "Now you have impressed the management team, you have been given a sample data file `assets/class_grades.csv` for a number of courses, and you have been asked to consider the letter grades for STATS 250, DATASCI 306, MATH 217, ENGLISH 125, ECON 101, EECS 545 for the past records since 2015. The student grades are stored in 6 columns: \n",
    "* `STATS250_grade` stores the letter grades for those who took the STATS 250 course\n",
    "* `DATASCI306_grade` stores the letter grades for those who took the DATASCI 306 course\n",
    "* `MATH217_grade` stores the letter grades for those who took the MATH 217 course\n",
    "* `ENGLISH125_grade` stores the letter grades for those who took the ENGLISH 125 course\n",
    "* `ECON101_grade` stores the letter grades for those who took the ECON 101 course\n",
    "* `EECS545_grade` stores the letter grades for those who took the EECS 545 course\n",
    "\n",
    "Prior to drawing plots for student grade distribution, it's useful to compute the total student enrollments for each course (of course, you need to ignore NAN values) and convert student's letter grades into standard grade points. Here's a nice table on the grade point systems available at the umich website:\n",
    "\n",
    "| Letter Grade | Grade Point |\n",
    "|:---: |:----:|\n",
    "| A+ | 4.3 |\n",
    "| A | 4.0 |\n",
    "| A- | 3.7 |\n",
    "| B+ | 3.3 |\n",
    "| B | 3 |\n",
    "| B- | 2.7 |\n",
    "| C+ | 2.3 |\n",
    "| C | 2 |\n",
    "| C- | 1.7 |\n",
    "| D+ | 1.3 |\n",
    "| D | 1 |\n",
    "| D- | 0.7 |\n",
    "| E | 0 |\n",
    "\n",
    "You are asked to:\n",
    "* Make a **3 * 2** figure (so 6 subplots) such that for each course you have a **histogram** using the student grade samples respectively\n",
    "* Remove the gaps between the bars in the histograms if any\n",
    "* For each probability plot, you should overlay a normal distribution with the same mean and standard deviation parameters as you see in the samples (you can calculate this!)\n",
    "* You should of course use a legend on each plot to specify the corresponding course name and number of students involved. For example, you can draw a legend and specify \"STATS 250, n=5000\" to indicate that you are analyzing STATS 250 course with 5000 enrolled students records being used for analysis\n",
    "\n",
    "Hints:\n",
    "* To make subplots, one good way to start with is to use `fig, ax = plt.subplot()`\n",
    "* To remove the gaps that might show up in histograms, you can customize the `bins` parameter\n",
    "* If you want to make histograms using the distplot function in seaborn package, you need to specify the parameters `kde = False` and `norm_hist = True`"
   ]
  },
  {
   "cell_type": "code",
   "execution_count": 2,
   "metadata": {},
   "outputs": [],
   "source": [
    "import matplotlib.pyplot as plt\n",
    "import pandas as pd\n",
    "import seaborn as sns\n",
    "\n",
    "def grade_distribution():\n",
    "    return None\n",
    "\n",
    "grade_distribution()"
   ]
  },
  {
   "cell_type": "markdown",
   "metadata": {},
   "source": [
    "# Question 3 Grade Distribution Normality Check (30%)\n",
    "\n",
    "Seeing the student grade distributions of the 6 large residential courses, the team team is tempted to draft recommendations for instructors and report to them what particular aspects could be addressed to improve students' academic learning outcome. However, before they launch statistical tests, they need to verify if the student grades data approximately follows normal distribution, a sufficient condition rendering the design of statistical models valid for those courses. You suggest that a QQ-plot is a great method to determine how similar a distribution is to another. Great idea!\n",
    "* Make a 3 * 2 figure (again, 6 subplots) so that for each course you have a QQ plot using the student grade samples versus the normal distribution with the same mean and standard deviation\n",
    "* You need to use a legend on each plot to specify the corresponding course name and number of students involved. For example, you can draw a legend and specify \"STATS 250, n=5000\" to indicate that you are analyzing STATS 250 course with 5000 enrolled students records being used for analysis\n",
    "* For each QQ-plot, use annotate tool inside the graph to circle observations which are 2 standard deviations outside from the QQ-line (a straight line showing the theoretical values for different quantiles under normal distribution)\n",
    "* Write a couple of sentence about the figure discussing the courses and whether they seem to be normally distributed.\n",
    "\n",
    "Hint: You may find using `fig = plt.figure()` and `fig.add_subplot()` functions helpful to create subplots. You don't have to use these functions though."
   ]
  },
  {
   "cell_type": "code",
   "execution_count": null,
   "metadata": {},
   "outputs": [],
   "source": [
    "def grade_normality():\n",
    "    return None\n",
    "\n",
    "grade_normality()"
   ]
  }
 ],
 "metadata": {
  "kernelspec": {
   "display_name": "Python 3",
   "language": "python",
   "name": "python3"
  },
  "language_info": {
   "codemirror_mode": {
    "name": "ipython",
    "version": 3
   },
   "file_extension": ".py",
   "mimetype": "text/x-python",
   "name": "python",
   "nbconvert_exporter": "python",
   "pygments_lexer": "ipython3",
   "version": "3.8.3"
  }
 },
 "nbformat": 4,
 "nbformat_minor": 4
}
