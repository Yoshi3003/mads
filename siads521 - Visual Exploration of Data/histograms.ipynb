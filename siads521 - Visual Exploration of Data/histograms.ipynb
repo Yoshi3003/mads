{
 "cells": [
  {
   "cell_type": "code",
   "execution_count": null,
   "metadata": {},
   "outputs": [],
   "source": [
    "#Let's create a histogram in jpyter notebook.\n",
    "#First, import the pandas library as 'pd', matplotlib, pyplot, and the iris dataset as an example,\n",
    "#and you can follow along in jupyter notebook.\n",
    "import pandas as pd\n",
    "import numpy as np\n",
    "import matplotlib as mpl\n",
    "mpl.get_backend()\n",
    "import matplotlib.pyplot as plt\n",
    "\n",
    "iris = pd.read_csv('assets/iris.csv') #Load the iris.csv dataset"
   ]
  },
  {
   "cell_type": "code",
   "execution_count": null,
   "metadata": {},
   "outputs": [],
   "source": [
    "#We'll use the plt.hist method in matplotlib to create the same very basic histogram of sepal weidth\n",
    "#we just looked at\n",
    "plt.hist(iris['sepal_width'])\n",
    "#This simple histogram is a great first attempt in understanding your data.\n",
    "#Notice that by default, the histograms in Matplotlib use ten bins, that is ten different bars."
   ]
  },
  {
   "cell_type": "code",
   "execution_count": null,
   "metadata": {},
   "outputs": [],
   "source": [
    "#Let's do the same function with the bin set to 25.\n",
    "plt.hist(iris[\"sepal_width\"], bins = 25) #Using the bins function, matplotlib will automatically\n",
    "#create 25 evenly spaced bins.\n",
    "#Now we see that the sampled plot looks smoother than the previous one.\n",
    "#We've included an optional reading that goes into more detail on the influence of bin sizes."
   ]
  },
  {
   "cell_type": "code",
   "execution_count": null,
   "metadata": {},
   "outputs": [],
   "source": [
    "#The hist() function has many options to tune both the calculation and the display.\n",
    "#The plt.hist docstring has more informaiton on other customization options that are available.\n",
    "\n",
    "#Let's explore those and create a more customized histogram, that gives us more information about the axis\n",
    "# We can stick with the bin size of 25, and\n",
    "# Set the transparency level using the alpha at alpha=0.5\n",
    "# And set histtype='stepfilled', which generates a lineplot that is by default filled.\n",
    "# And change the color using color='coral'\n",
    "plt.hist(iris[\"sepal_width\"], bins=25, alpha=0.5,\n",
    "        histtype=\"stepfilled\", color='coral')\n",
    "\n",
    "#We also need a title and axis labels\n",
    "plt.title(\"Histogram of Sepal Width\") # We can add these using the plt.title and xlabel, and ylabel.\n",
    "plt.xlabel('Sepal Width')\n",
    "plt.ylabel(\"Frequency\")"
   ]
  },
  {
   "cell_type": "code",
   "execution_count": null,
   "metadata": {},
   "outputs": [],
   "source": [
    "#the plot most often accompanined by a histogram is a normal distribution plot. These plots come in handy\n",
    "#when we are trying to identify averages, outliners, and distributions. Also, they're very easy to produce with\n",
    "#Python.\n",
    "#First, we'll be focusing on the normal distribution using the probability density function.\n",
    "#Basically, if we have a range of x's, which in this case would be the sepal width variable measures,\n",
    "#a mean and a standard deviation (σσ), we can pass them onto this formula and get corresponding y values,\n",
    "#which we can then plot using the standard matplotlib plot() function:\n",
    "\n",
    "#Let's set up the scene first:\n",
    "\n",
    "#Ok, lead in the norm function from scipy.stats,\n",
    "from scipy.stats import norm\n",
    "\n",
    "#and convert pandas DataFrame object to numpy array and sort\n",
    "sw = np.asarray(iris[\"sepal_width\"])\n",
    "sw = sorted(sw)\n",
    "\n",
    "#Let's use the scipy stats module pdf, or probability density function to fit a normal distribution\n",
    "#width the same mean and standard deviation, and inside it we can use numpy to determine a mean and a STD of sepal width\n",
    "fit = norm.pdf(sw, np.mean(sw), np.std(sw))\n",
    "\n",
    "#Now, we can plot both series on the histogram\n",
    "plt.plot(sw,fit,\"--\", linewidth = 2, label=\"Normal distribution with same mean and var\")\n",
    "plt.hist(sw,density=True,bins = 25, label=\"Actual distribution\")\n",
    "\n",
    "#and add our information\n",
    "plt.title(\"Histogram with Sepal Width with Normal Distribution Line\")\n",
    "plt.xlabel(\"Sepal Width\")\n",
    "plt.ylabel(\"Probability Density\")\n",
    "plt.legend()\n",
    "plt.show()\n",
    "#This data doesn't look very normal, as we can see that there are several points\n",
    "#extending above the normal distribution line\n"
   ]
  },
  {
   "cell_type": "code",
   "execution_count": null,
   "metadata": {},
   "outputs": [],
   "source": [
    "#Let's check out the kurtosis. Kurtosis is a measure of whether the data are heavy-tailed or light-tailed\n",
    "#relative to a normal distribution. That is, data sets with higher kertosis tend to have heavy tails, or\n",
    "#outliers. Data sets with low kertosis tend to have light tails, or lack of outliers.\n",
    "#A uniform distribution would be the extreme case.\n",
    "\n",
    "#We can use the pandas .kurt to do this\n",
    "#Note, pandas uses Fisher's definition of kertosis (kertosis of normal == 0.0)\n",
    "iris['sepal_width'].kurt()\n",
    "#we can see that the data are indeed, not normal because the Kurtosis doesn't equal 1.\n",
    "#The sign of the kurtosis indicates how the data deviate from the normal distribution\n",
    "#In our case, we have a positive value of .228 which indicates that the distribution has heavier tails\n",
    "#and a sharper peak than the normal distribution.\n",
    "\n",
    "#If we had a negative value, say -.45, this would indicate our data has lighter tails and a flatter\n",
    "#peak than the normal distribution"
   ]
  },
  {
   "cell_type": "code",
   "execution_count": null,
   "metadata": {},
   "outputs": [],
   "source": [
    "#To make this concrete, below is an example of a sample of Gaussian numbers transformated to have\n",
    "#an expoential distribution\n",
    "\n",
    "# First, we can generate some data\n",
    "np.random.seed(42) #To ensure we get the same data every time.\n",
    "X = (np.random.randn(100,1) * 5 + 10)**2\n",
    "\n",
    "#Let's plot the histogram of the above data to see what's going on.\n",
    "plt.hist(X)\n",
    "\n",
    "#We can already see from the histogram that the data appears pretty noisy. And it's strangely skewed.\n",
    "#With experience, you would notice that the data are positively skewed because the tail on the \n",
    "#right side of the distribution is longer or fatter. This is indicating some sort of power law, or exponential."
   ]
  },
  {
   "cell_type": "code",
   "execution_count": null,
   "metadata": {},
   "outputs": [],
   "source": [
    "#let's check the kurotosis using the scipy.stats this time\n",
    "from scipy.stats import kurtosis\n",
    "#We will specify that we want to use Fisher's definition to be consistent.\n",
    "\n",
    "#Kurtosis is the fourth central moment divided by the square of the variance. If Fisher's definition is used, \n",
    "#then 3.0 is subtracted from the result to give 0.0 for the normal distribution.\n",
    "kurtosis(X, fisher=True)\n",
    "#This data doesn't have too much of a kurtosis issue, but let's check the skewness"
   ]
  },
  {
   "cell_type": "code",
   "execution_count": null,
   "metadata": {},
   "outputs": [],
   "source": [
    "#For normally distributed data, the skewness should be about 0. For unimodal continuous distributions, a skewness\n",
    "#value > 0 means that there is more weight in the right tail of the distrinution.\n",
    "\n",
    "#first import the skew fuction\n",
    "from scipy.stats import skew\n",
    "\n",
    "skew(X)\n",
    "#which we would like to also be 0.\n",
    "#But of course, ... it is not."
   ]
  },
  {
   "cell_type": "code",
   "execution_count": null,
   "metadata": {},
   "outputs": [],
   "source": [
    "#We can transform the data, by trying to invert the mathematical operations that has occured up to the point where\n",
    "#we measured it. This is ok, we're not altering the data, we're just changing how it is represented.\n",
    "df = pd.DataFrame(X) # Create a pandas DataFrame out of the numpy array\n",
    "\n",
    "df_exp = df.apply(np.log)  #pd.DataFrame.apply accepts a function to apply to each column of the data\n",
    "df_exp.plot.hist(alpha=0.5, bins = 15, grid=True, legend=None)\n",
    "plt.xlabel(\"Feature value\")\n",
    "plt.title(\"Histogram\")\n",
    "plt.show()\n",
    "\n",
    "#Ok, so that still looks a bit weird."
   ]
  },
  {
   "cell_type": "code",
   "execution_count": null,
   "metadata": {},
   "outputs": [],
   "source": [
    "#I wonder if it's a power law?\n",
    "\n",
    "df_pow = df.apply(np.sqrt)\n",
    "df_pow.plot.hist(alpha=0.5, bins=15, grid=True, legend=None)\n",
    "plt.xlabel(\"Feature value\")\n",
    "plt.title(\"Histogram\")\n",
    "plt.show()\n",
    "\n",
    "#That's looking much better! So it looks like it is a power law (to the power of 2)."
   ]
  },
  {
   "cell_type": "code",
   "execution_count": null,
   "metadata": {},
   "outputs": [],
   "source": [
    "#But to be sure, let's fit a normal curve over the top...\n",
    "import scipy.stats as stats\n",
    "from scipy.stats import norm\n",
    "param = stats.norm.fit(df_pow)      #Fit a normal distribution to the data\n",
    "\n",
    "x = np.linspace(0, 20, 100)         # Linear spacing of 100 elements between 0 and 20.\n",
    "pdf_fitted = stats.norm.pdf(x, *param)    # Use the fitted parameters to create the y datapoints\n",
    "\n",
    "# Plot the histogram again\n",
    "df_pow.plot.hist(alpha=0.5, bins=15, grid=True, density=True, legend=None)\n",
    "\n",
    "# Plot some fancy text to show us what the parameters of the distribution are (mean and standard deviation)\n",
    "plt.text(x=np.min(df_pow), y=0.1, s=r\"$\\mu=%0.1f$\" % param[0] + \"\\n\" + r\"$\\sigma=%0.1f$\" % param[1], color='r')\n",
    "\n",
    "# Plot a line of the fitted distribution over the top\n",
    "plt.plot(x, pdf_fitted, color='r')\n",
    "\n",
    "#Standard plot stuff\n",
    "plt.xlabel(\"Feature value\")\n",
    "plt.ylabel(\"Histogram with fitted normal distribution\")\n",
    "plt.show()"
   ]
  }
 ],
 "metadata": {
  "kernelspec": {
   "display_name": "Python 3",
   "language": "python",
   "name": "python3"
  },
  "language_info": {
   "codemirror_mode": {
    "name": "ipython",
    "version": 3
   },
   "file_extension": ".py",
   "mimetype": "text/x-python",
   "name": "python",
   "nbconvert_exporter": "python",
   "pygments_lexer": "ipython3",
   "version": "3.7.3"
  }
 },
 "nbformat": 4,
 "nbformat_minor": 4
}
