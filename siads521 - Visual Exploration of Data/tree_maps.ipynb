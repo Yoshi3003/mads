{
 "cells": [
  {
   "cell_type": "markdown",
   "metadata": {},
   "source": [
    "## Treemaps  \n",
    "This lecture is going to be a little bit different because we're going to explore a kind of\n",
    "visual which matplotlib doesn't have built in support for called the treemap. A tree map is a data\n",
    "visualization technique that shows hierarchical data as a set of nested rectangles varying in colors and\n",
    "sizes depending on some data value. So you can see a relationship between two items in the heirarchy through\n",
    "the rectangles, but you can also see the relationship between values of various components through\n",
    "coloration, texturing, or the like."
   ]
  },
  {
   "cell_type": "markdown",
   "metadata": {},
   "source": [
    "Now, if you google python and treemap you'll see lots of different articles showing you hyow to build a\n",
    "treemap in python. But they're all wrong as far as I've seen - most of these examples are little more than\n",
    "square pie charts which show one or more relationships with coloration. Nonetheless, I think it's useful to\n",
    "see both what treemaps can be, and what we have in python at our disposal to work with. Maybe you or someone\n",
    "else who sees this video will take up the banner of actually implementing a treemap in python. So, let's\n",
    "start with the original image of a treemap, from Ben Schneiderman's 1991 technical report where he shared\n",
    "the original idea. (see http://www.cs.umd.edu/hcil/trs/91-03/91-03.html)"
   ]
  },
  {
   "cell_type": "markdown",
   "metadata": {},
   "source": [
    "![](assets/tree1.png)"
   ]
  },
  {
   "cell_type": "markdown",
   "metadata": {},
   "source": [
    "In the top figure we can see the tree data structure he was working with. There are four main nodes, each\n",
    "containing several leaf nodes. Leaf nodes are all numbered. The figure below, figure 2, shows the whole\n",
    "tree. Each of the leaf nodes is contiguously connected. For instance, the nodes 6, 8, and 11 appear at the\n",
    "top, together, and represent one square from the tree diagram. Nodes 5 and 40 are similarly next to one\n",
    "another, then together those nodes are next to the ones labeled 6, 8, and 11. So the structure of the tree\n",
    "is represented both explicitly - for the leaf nodes - and implicitly, for the non-leaf nodes.\n",
    "\n",
    "Now, Ben and his team, as well as other researchers around the world, continued to iterate on the design of\n",
    "treemaps. Here's another example of a treemap from the early 2000's. (see\n",
    "https://bmcbioinformatics.biomedcentral.com/articles/10.1186/1471-2105-5-84)"
   ]
  },
  {
   "cell_type": "markdown",
   "metadata": {},
   "source": [
    "![](assets/ontology.jpg)"
   ]
  },
  {
   "cell_type": "markdown",
   "metadata": {},
   "source": [
    "This is where things get more interesting! What's particularly important is that now an arbitrary level of\n",
    "nesting is being shown for the heirarchical data. We see that now binding activity, for instance, contains\n",
    "both protein binding activity and nucleotide binding activity, and that this latter category includes\n",
    "several kinds of nucleotide binding activities. Further, this was built into an application which didn't\n",
    "just show the visualizations but allowed for filtering  of data and exploration of other details of the tree\n",
    "data structure.\n",
    "\n",
    "At the same time, I think this image also starts to highlight the problems that treemaps surface -- it's\n",
    "actually really hard to navigate through deep structures, and when there are many many nodes in the tree\n",
    "it's difficult to visualize them all and keep the heirarchy clear. For each level in the heirarchy, some\n",
    "form of border is needed to denote the contains relationship between nodes, which are realized as\n",
    "rectangles. And this is even more difficult if the nodes are actually supposed to be labeled too, resulting\n",
    "in clutter when trying to scale."
   ]
  },
  {
   "cell_type": "code",
   "execution_count": 1,
   "metadata": {},
   "outputs": [
    {
     "data": {
      "text/plain": [
       "\u001b[0;31mSignature:\u001b[0m\n",
       "\u001b[0msquarify\u001b[0m\u001b[0;34m.\u001b[0m\u001b[0mplot\u001b[0m\u001b[0;34m(\u001b[0m\u001b[0;34m\u001b[0m\n",
       "\u001b[0;34m\u001b[0m    \u001b[0msizes\u001b[0m\u001b[0;34m,\u001b[0m\u001b[0;34m\u001b[0m\n",
       "\u001b[0;34m\u001b[0m    \u001b[0mnorm_x\u001b[0m\u001b[0;34m=\u001b[0m\u001b[0;36m100\u001b[0m\u001b[0;34m,\u001b[0m\u001b[0;34m\u001b[0m\n",
       "\u001b[0;34m\u001b[0m    \u001b[0mnorm_y\u001b[0m\u001b[0;34m=\u001b[0m\u001b[0;36m100\u001b[0m\u001b[0;34m,\u001b[0m\u001b[0;34m\u001b[0m\n",
       "\u001b[0;34m\u001b[0m    \u001b[0mcolor\u001b[0m\u001b[0;34m=\u001b[0m\u001b[0;32mNone\u001b[0m\u001b[0;34m,\u001b[0m\u001b[0;34m\u001b[0m\n",
       "\u001b[0;34m\u001b[0m    \u001b[0mlabel\u001b[0m\u001b[0;34m=\u001b[0m\u001b[0;32mNone\u001b[0m\u001b[0;34m,\u001b[0m\u001b[0;34m\u001b[0m\n",
       "\u001b[0;34m\u001b[0m    \u001b[0mvalue\u001b[0m\u001b[0;34m=\u001b[0m\u001b[0;32mNone\u001b[0m\u001b[0;34m,\u001b[0m\u001b[0;34m\u001b[0m\n",
       "\u001b[0;34m\u001b[0m    \u001b[0max\u001b[0m\u001b[0;34m=\u001b[0m\u001b[0;32mNone\u001b[0m\u001b[0;34m,\u001b[0m\u001b[0;34m\u001b[0m\n",
       "\u001b[0;34m\u001b[0m    \u001b[0mpad\u001b[0m\u001b[0;34m=\u001b[0m\u001b[0;32mFalse\u001b[0m\u001b[0;34m,\u001b[0m\u001b[0;34m\u001b[0m\n",
       "\u001b[0;34m\u001b[0m    \u001b[0mbar_kwargs\u001b[0m\u001b[0;34m=\u001b[0m\u001b[0;32mNone\u001b[0m\u001b[0;34m,\u001b[0m\u001b[0;34m\u001b[0m\n",
       "\u001b[0;34m\u001b[0m    \u001b[0mtext_kwargs\u001b[0m\u001b[0;34m=\u001b[0m\u001b[0;32mNone\u001b[0m\u001b[0;34m,\u001b[0m\u001b[0;34m\u001b[0m\n",
       "\u001b[0;34m\u001b[0m    \u001b[0;34m**\u001b[0m\u001b[0mkwargs\u001b[0m\u001b[0;34m,\u001b[0m\u001b[0;34m\u001b[0m\n",
       "\u001b[0;34m\u001b[0m\u001b[0;34m)\u001b[0m\u001b[0;34m\u001b[0m\u001b[0;34m\u001b[0m\u001b[0m\n",
       "\u001b[0;31mDocstring:\u001b[0m\n",
       "Plotting with Matplotlib.\n",
       "\n",
       "Parameters\n",
       "----------\n",
       "sizes\n",
       "    input for squarify\n",
       "norm_x, norm_y\n",
       "    x and y values for normalization\n",
       "color\n",
       "    color string or list-like (see Matplotlib documentation for details)\n",
       "label\n",
       "    list-like used as label text\n",
       "value\n",
       "    list-like used as value text (in most cases identical with sizes argument)\n",
       "ax\n",
       "    Matplotlib Axes instance\n",
       "pad\n",
       "    draw rectangles with a small gap between them\n",
       "bar_kwargs : dict\n",
       "    keyword arguments passed to matplotlib.Axes.bar\n",
       "text_kwargs : dict\n",
       "    keyword arguments passed to matplotlib.Axes.text\n",
       "**kwargs\n",
       "    Any additional kwargs are merged into `bar_kwargs`. Explicitly provided\n",
       "    kwargs here will take precedence.\n",
       "\n",
       "Returns\n",
       "-------\n",
       "matplotlib.axes.Axes\n",
       "    Matplotlib Axes\n",
       "\u001b[0;31mFile:\u001b[0m      /opt/conda/lib/python3.7/site-packages/squarify/__init__.py\n",
       "\u001b[0;31mType:\u001b[0m      function\n"
      ]
     },
     "metadata": {},
     "output_type": "display_data"
    }
   ],
   "source": [
    "# So let's see what we can actually do with treemaps in python. There is a library called squarify which helps\n",
    "# a bit and, perhaps not suprisingly, this library actually emulates a sort of pyplot scripting interface, and\n",
    "# all of the objects that it creates are actually just matplotlib objects - things like Axes, Figures, and\n",
    "# Patches. Actually, if you wanted to create your own visualization method and share it with others, this is a\n",
    "# great way to do it, since the underlying objects are all managed for you. I've linked here to the squarify\n",
    "# source code, because I think it's actually pretty simple and readable, and demonstrates how you could build\n",
    "# a library on top of matplot lib that interacts cleanly with the Jupyter notebooks. And who knows, maybe one\n",
    "# of you will decide to improve the python infoviz ecosystem by forking squarify and adding to heirarchical\n",
    "# features! https://github.com/laserson/squarify/blob/master/squarify/__init__.py\n",
    "\n",
    "# Let's bring in our regular imports\n",
    "import pandas as pd\n",
    "import matplotlib.pyplot as plt\n",
    "import matplotlib as mpl\n",
    "\n",
    "# And let's bring in the squarify library too\n",
    "import squarify\n",
    "\n",
    "# Let's take a look at the squarify plot() function\n",
    "squarify.plot?"
   ]
  },
  {
   "cell_type": "code",
   "execution_count": 2,
   "metadata": {},
   "outputs": [
    {
     "data": {
      "text/plain": [
       "<matplotlib.axes._subplots.AxesSubplot at 0x7f35657822e8>"
      ]
     },
     "execution_count": 2,
     "metadata": {},
     "output_type": "execute_result"
    },
    {
     "data": {
      "image/png": "[encoded data removed]",
      "text/plain": [
       "<Figure size 432x288 with 1 Axes>"
      ]
     },
     "metadata": {
      "needs_background": "light"
     },
     "output_type": "display_data"
    }
   ],
   "source": [
    "# We see that squarify takes in a list of numeric values which are the squares we want to create. In addition,\n",
    "# there are a bunch of other parameters we can pass in, including an axes object to plot to a specific axes\n",
    "# or colors and labels. Let's start with just a trivial example\n",
    "\n",
    "# Let's plot some powers of two\n",
    "squarify.plot([2,4,8,16])"
   ]
  },
  {
   "cell_type": "code",
   "execution_count": 3,
   "metadata": {},
   "outputs": [
    {
     "data": {
      "text/plain": [
       "<matplotlib.axes._subplots.AxesSubplot at 0x7f356366db70>"
      ]
     },
     "execution_count": 3,
     "metadata": {},
     "output_type": "execute_result"
    },
    {
     "data": {
      "image/png": "[encoded data removed]",
      "text/plain": [
       "<Figure size 432x288 with 1 Axes>"
      ]
     },
     "metadata": {
      "needs_background": "light"
     },
     "output_type": "display_data"
    }
   ],
   "source": [
    "# Now, the colors here are automatically picked for us, and frankly, kind of gross. But we can add colors as\n",
    "# well if we want to. And we can setup some labels. So let's take a look are a quick round two\n",
    "squarify.plot([2,4,8,16], label=[\"two\",\"four\",\"eight\",\"sixteen\"], color=[\"red\",\"green\",\"blue\",\"yellow\"])"
   ]
  },
  {
   "cell_type": "code",
   "execution_count": 4,
   "metadata": {},
   "outputs": [
    {
     "data": {
      "image/png": "[encoded data removed]",
      "text/plain": [
       "<Figure size 864x432 with 4 Axes>"
      ]
     },
     "metadata": {
      "needs_background": "light"
     },
     "output_type": "display_data"
    }
   ],
   "source": [
    "# Well, I didn't really fix the garish colors, but at least I made them predictable :)\n",
    "\n",
    "# We can see that in python with squarify we really only have a couple of dimensions of data to show, the size\n",
    "# in area of the squares and the color which might represent some value of interest. And unfortunatly, that's\n",
    "# about as far as we can go with treemaps in python, at least as far as I know of.\n",
    "\n",
    "# And actually, this really annoyed me while writing up this lecture. Seeing page after page of google search\n",
    "# results suggesting that these rectangular pie charts are tree maps. But there's no heirarchy! So, I sat\n",
    "# back and decided instead of waiting for the world to solve my problem for me, I would take a shot myself.\n",
    "\n",
    "# Let's go!\n",
    "# First, let's bring in random and numpy, we'll need them\n",
    "import random\n",
    "import numpy as np\n",
    "\n",
    "# Now let's hack something together. For instance, let's say we had some arbitrary number of directories\n",
    "directories={\"videos\":{},\"images\":{},\"documents\":{},\"notebooks\":{}}\n",
    "# And that each of those directories has a few files in them and those files are some size\n",
    "for key in directories.keys():\n",
    "    directories[key]={\"file {}\".format(i):random.randint(20,1000) for i in range(random.randint(2,10))}\n",
    "\n",
    "# Now let's measure how big each folder is\n",
    "directory_sizes={}\n",
    "for key in directories.keys():\n",
    "    directory_sizes[key]=np.sum(list(directories[key].values()))\n",
    "\n",
    "# Now let's generate a bunch of colors for each of the files, which should be similar within a directory\n",
    "import colorsys\n",
    "directory_colors={}\n",
    "\n",
    "def get_colors(n,h):\n",
    "    '''\n",
    "    n is the number of colors to return, taken from Sverre Rabbelier at:\n",
    "    https://stackoverflow.com/questions/876853/generating-color-ranges-in-python\n",
    "    '''\n",
    "    HSV_tuples = [(h, 0.5, (x*0.5/n)+0.5) for x in range(n)]\n",
    "    RGB_tuples = [colorsys.hsv_to_rgb(*x) for x in HSV_tuples]\n",
    "    return tuple(RGB_tuples)\n",
    "\n",
    "for key in directories.keys():\n",
    "    directory_colors[key]=get_colors(len(directories[key].values()), h=random.random())\n",
    "\n",
    "# Ok, we have our directories listed in the directories dictionary, with their child files. And we now have\n",
    "# top level information in the directory_sizes() and directory_colors() dictionarys. Now my strategy is to\n",
    "# generate a new Axes object for each directory, and scale the size of the Axes object to the size of the\n",
    "# directory. We can do this with the GridSpec functionality in matplotlib. This essentially allows us more\n",
    "# fine grained control over our figure subplots, changing the relative size of each Axes. In this case we\n",
    "# will change sizes of the Axes in width based on the size of the files in a directory.\n",
    "from matplotlib.gridspec import GridSpec\n",
    "fig = plt.figure(figsize=(12, 6), constrained_layout=True)\n",
    "gs = GridSpec(1, len(directories), figure=fig, width_ratios=list(directory_sizes.values()))\n",
    "\n",
    "# The way I've set this up is a significant limitation, as I've decided that I'll only have one row, and that\n",
    "# each Axes will be lined up and chopped up based on its size in that row. This doesn't scale well, and sort\n",
    "# of creates a \"strip\" plot, which reads as left to right, but it should be sufficient to demo\n",
    "\n",
    "# Now I want to create a list of Axes objects, each associated with one Directory\n",
    "directories_axes=[]\n",
    "for i in range(len(directories)):\n",
    "    # I'll add to this list the results of add_subplot(), calling in our gridspec. That will help matplotlib\n",
    "    # create the Axes and associate it with the figure\n",
    "    directories_axes.append(fig.add_subplot(gs[i]))\n",
    "\n",
    "# Now we just iterate over ever item in the director\n",
    "for i in range(len(directories)):\n",
    "    dir_name=list(directories.keys())[i]\n",
    "    # And we plot that item with squarify, passing in our particulars and directing squarify to render to\n",
    "    # the given Axes objects we created with gridspec\n",
    "    squarify.plot(list(directories[dir_name].values()), label=list(directories[dir_name].keys()), \n",
    "                  ax=directories_axes[i], color=directory_colors[dir_name])\n",
    "    # And we'll set the name of the axes and hide the axis details to make it a bit more readable\n",
    "    directories_axes[i].set_title(dir_name)\n",
    "    directories_axes[i].set_axis_off()"
   ]
  },
  {
   "cell_type": "markdown",
   "metadata": {},
   "source": [
    "Now that looks a lot like a Tree Map! Sure, it took me 70 lines of code to write it and hours digging\n",
    "through how squarify worked as well as learning more about color spaces than I wanted to. And yes, this is a\n",
    "pretty limited looking tree map - it's one big strip and we haven't rendered everything that might be\n",
    "useful. I also carefully crafted some of the defaults to ensure the code would work but that there weren't\n",
    "too many files which would make it unreadable. But hopefully you see the two points of this lecture. First,\n",
    "a tree map as an exploratory technique has a lot of power in that you can represent heirarchy and two other\n",
    "variables - color saturation in this case and size of a file - all at once. But that the tree map does\n",
    "suffer from some usability issues as it scales, which we saw in Ben's nucleotide example. But the second\n",
    "second lesson is that, with a knowledge of matplotlib and a determination to dig deeper, you can start to\n",
    "create your own visualizations which are tied to your needs and your data. And who knows, maybe you want to\n",
    "fork squarify and turn it into a real treemap library, I think that would be great!"
   ]
  }
 ],
 "metadata": {
  "kernelspec": {
   "display_name": "Python 3",
   "language": "python",
   "name": "python3"
  },
  "language_info": {
   "codemirror_mode": {
    "name": "ipython",
    "version": 3
   },
   "file_extension": ".py",
   "mimetype": "text/x-python",
   "name": "python",
   "nbconvert_exporter": "python",
   "pygments_lexer": "ipython3",
   "version": "3.7.3"
  }
 },
 "nbformat": 4,
 "nbformat_minor": 4
}
