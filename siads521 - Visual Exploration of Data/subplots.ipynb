{
 "cells": [
  {
   "cell_type": "markdown",
   "metadata": {},
   "source": [
    "## Subplotting"
   ]
  },
  {
   "cell_type": "markdown",
   "metadata": {},
   "source": [
    "So far, we've learned how to make single plots by making calls directly from pyplot using commands like \n",
    "`plt.plot()` or `plt.hist()`. However, sometimes it's useful to show several plots side-by-side in the same\n",
    "figure. In this lecture, we'll talk about some of matplotlib's subplotting features, and discuss how to\n",
    "construct a scatterplot matrix. This goes back into some matplotlib architecture discussion, and while I'll\n",
    "be showing you how to do this with scatterplots, you can map almost anything to a matrix"
   ]
  },
  {
   "cell_type": "code",
   "execution_count": null,
   "metadata": {},
   "outputs": [],
   "source": [
    "%matplotlib inline\n",
    "# Let's bring in pyplot and numpy\n",
    "import matplotlib.pyplot as plt\n",
    "import numpy as np\n",
    "\n",
    "# Let's start with creating a single sine wave plot - this is just the data for a sine wave\n",
    "x = np.linspace(0, 4 * np.pi, 200)\n",
    "y = np.sin(x)\n",
    "\n",
    "# And let's take a look at that\n",
    "plt.plot(x, y)\n",
    "# Let's also put a title on the axes\n",
    "plt.gca().set_title('A single plot')"
   ]
  },
  {
   "cell_type": "code",
   "execution_count": null,
   "metadata": {},
   "outputs": [],
   "source": [
    "# Now, let's say we want to make a grid of plots. Well, once we've created a figure object, we can add\n",
    "# subplots by using the add_subplot() function. Notice that it takes in three parameters, the first two\n",
    "# numbers specifies that we have 2 rows and 3 columns. The last number is an index that lets you refer to a\n",
    "# specific subplot.\n",
    "\n",
    "# So, let's create a basic figure\n",
    "fig = plt.gcf()\n",
    "# Now let's iterate over the 6 potential spots in our figure\n",
    "for i in range(1, 7):\n",
    "    # let's not plot something if we are at position 5 or 3, we'll leave these as holes\n",
    "    if i != 5 and i != 3:\n",
    "        # Now let's add a subplot, we specify this as the overall structure we are expecting the figure to\n",
    "        # take, so 2 rows and 3 columns, and the position of this item in the figure. Note that while we are\n",
    "        # iterating linearly the figure then is mapping our index into this 2x3 row/column space, so the\n",
    "        # numbering goes from left to right and top to bottom\n",
    "        ax = fig.add_subplot(2, 3, i)\n",
    "        # And we'll just add some text to the figures to make this more clear. Remember from the lecture on\n",
    "        # annotation that text goes at the bottom left corner by default, and we are using relative\n",
    "        # positioning\n",
    "        ax.text(0.5, 0.2, str((2, 3, i)),fontsize=18, ha='center')"
   ]
  },
  {
   "cell_type": "code",
   "execution_count": null,
   "metadata": {},
   "outputs": [],
   "source": [
    "# Great, so we see our figure now contains 6 subplots, and two of those (index 3 and 5) are empty. Important\n",
    "# to note here is that the indexing of subplots starts at 1 and *not* zero.\n",
    "\n",
    "# We can see that each subplot has its own axes object, which has rendered the x and y axis object\n",
    "# respectively. Actually, we can see things look super crowded here too, and there are axis tick labels\n",
    "# overwriting other axes objects.\n",
    "\n",
    "# Now, you don't have to create your figure like this, iteratively as you go. Instead, you can call the pyplot\n",
    "# subplots() function and specify a shape. This function returns the figure object and an ndarray of AxesSubplot\n",
    "# objects. Let's take a look\n",
    "fig, axes_array = plt.subplots(2, 3)\n",
    "print(axes_array)"
   ]
  },
  {
   "cell_type": "code",
   "execution_count": null,
   "metadata": {},
   "outputs": [],
   "source": [
    "# Now, like most functions in matplotlib, we can pass a list of keyword arguments to the function to control\n",
    "# the formatting of a particular artist. And, the available keywords are often not shared in the docs directly,\n",
    "# for instance in the subplot documentation this is just listed as **fig_kw, which means a dictionary of other\n",
    "# keywords will just be unpacked, and \"All additional keyword arguments are passed to the pyplot.figure call.\"\n",
    "# This means you most certainly will have to experiment and hunt through function calls when using matplotlib.\n",
    "\n",
    "# But we've already seen that we can pass the figsize as a tuple to the figure() function, so that means we\n",
    "# should be able to pass that to the subplots() function too\n",
    "plt.subplots(2, 3, figsize=(12, 5))"
   ]
  },
  {
   "cell_type": "code",
   "execution_count": null,
   "metadata": {},
   "outputs": [],
   "source": [
    "# Ok, so that makes a bigger figure at the same time we are building our subplots. As you can see, the pyplot\n",
    "# scripting layer can feel like there is a lot of magic going on, especially if you are used to object\n",
    "# oriented libraries. But with the docs at hand it's actually pretty straight forward.\n",
    "\n",
    "# let's replot that figure and then adjust the subplots using the subplots_adjust() feature. This is actually\n",
    "# not available in pyplot per se, so we need to get the current figure to make the adjustment directly\n",
    "plt.subplots(2, 3, figsize=(12, 5))\n",
    "# Let's add a 0.35 relative bit of whitespace between axes\n",
    "plt.gcf().subplots_adjust(hspace=0.35, wspace=0.35) "
   ]
  },
  {
   "cell_type": "code",
   "execution_count": null,
   "metadata": {},
   "outputs": [],
   "source": [
    "# Ok, so those are the mechanics of subplots. But I sort of teased you with a sine wave, let's get back\n",
    "# to our example and talk about wave interference, and how we can visualize this kind of data."
   ]
  },
  {
   "cell_type": "markdown",
   "metadata": {},
   "source": [
    "![wave interference](assets/wave_interference.jpg)"
   ]
  },
  {
   "cell_type": "code",
   "execution_count": null,
   "metadata": {},
   "outputs": [],
   "source": [
    "# When two waves collide with each other, as shown in this picture, their amplitudes (or heights in the case\n",
    "# of the water wave here) are summed together. If the two waves are synchronized, or in phase, this results in\n",
    "# constructive intereference, and we should see a larger wave. On the other hand, if they are perfectly out of\n",
    "# phase, then this will result in destructive interference (where the flat dips are). So let's try to plot two\n",
    "# different waves and show the result of adding these waves, all on one figure."
   ]
  },
  {
   "cell_type": "code",
   "execution_count": null,
   "metadata": {},
   "outputs": [],
   "source": [
    "# First let's specify some x values, these will be shared between our waves\n",
    "x = np.linspace(0, 4 * np.pi, 220)\n",
    "\n",
    "# Now I'm going to shift our waves by π. Feel free to play around with this shift value\n",
    "shift = 1 * np.pi\n",
    "# Also, I'm going to round our values everywhere to 5 digits, just to prevent an annoying round off error\n",
    "y1 = np.round_(np.sin(x),5)\n",
    "y2 = np.round_(np.sin(x + shift),5)\n",
    "y3 = y1 + y2\n",
    "\n",
    "# So now we have essentially three waves, y1 and y2 are just sine waves, and y3 is the conmbination of these\n",
    "# two waves Let's plot thgem all side by side\n",
    "fig, axs = plt.subplots(1, 3, figsize=(12,3))\n",
    "axs[0].plot(x, y1)\n",
    "axs[1].plot(x, y2)\n",
    "axs[2].plot(x, y3)"
   ]
  },
  {
   "cell_type": "code",
   "execution_count": null,
   "metadata": {},
   "outputs": [],
   "source": [
    "# Cool. So when the two waves interfere exactly they cancel out and form a straight line. Now, the previous\n",
    "# setup isn't ideal since it's kind of hard to see the relationship between these two plots and how it results\n",
    "# in the third. So instead, let's try stacking them vertically and share the x-axes so that the points line up\n",
    "# with each other\n",
    "\n",
    "# We'll double the length of the x-axis (4 cycles instead of 2)\n",
    "x = np.linspace(0, 8 * np.pi, 200)\n",
    "\n",
    "# Once again, free to play around with this shift value afterwards\n",
    "shift = 1 * np.pi\n",
    "y1 = np.round_(np.sin(x), 5)\n",
    "y2 = np.round_(np.sin(x + shift),5)\n",
    "y3 = np.round_(y1 + y2, 5)\n",
    "\n",
    "# And let's stack the charts this time. We can also indicate that they will share and X and Y axis\n",
    "fig, axs = plt.subplots(3, 1, figsize=(12,4), sharex=True, sharey=True)\n",
    "axs[0].plot(x, y1)\n",
    "axs[1].plot(x, y2)\n",
    "axs[2].plot(x, y3)"
   ]
  },
  {
   "cell_type": "code",
   "execution_count": null,
   "metadata": {},
   "outputs": [],
   "source": [
    "# Now you can see the pattern much more clearly! Just focus on a single point and notice how the peaks and\n",
    "# troughs of these two curves line up and \"cancel\" each other out (1 + -1 = 0). There's also no need to\n",
    "# manually set the y bounds since we've specified that the axes markings should be shared."
   ]
  },
  {
   "cell_type": "code",
   "execution_count": null,
   "metadata": {},
   "outputs": [],
   "source": [
    "# Ok, I want to show you a bit of an easter egg here. While there are a couple of ways to make this a bit more\n",
    "# easy to explore, I'm going to just do a very simple animation using an animated gif. In this example I'm\n",
    "# going to use the python imaging library (PIL) to do so. So let's import that now\n",
    "import PIL\n",
    "\n",
    "# Now our top image will be static, that's just the first waveform, so let's create that now\n",
    "x = np.linspace(0, 8 * np.pi, 200)\n",
    "y1 = np.round_(np.sin(x), 5)\n",
    "\n",
    "# We're going to hold individual frames of the animated gif in a new variable, called ims\n",
    "ims=[]\n",
    "\n",
    "# And lets create a bunch of shift values, ranging from 0 to π. I'm going to create 20 of these, but the more\n",
    "# you create the more smooth (and slower) your animation is going to be\n",
    "shifts=np.linspace(0,np.pi,20)\n",
    "\n",
    "# For each shift value we're going to create a new subplot, just like we did before\n",
    "for shift in shifts:\n",
    "    fig, axs = plt.subplots(3, 1, figsize=(12,4), sharex=True, sharey=True)\n",
    "    y2 = np.round_(np.sin(x + shift),5)\n",
    "    y3 = np.round_(y1 + y2, 5)\n",
    "    \n",
    "    \n",
    "    axs[0].plot(x, y1)\n",
    "    # axs[0].set_ylim(-1,1)\n",
    "    axs[1].plot(x, y2)\n",
    "    # axs[1].set_ylim(-1,1)\n",
    "    axs[2].plot(x, y3)\n",
    "    # Now, we need to set the y axis size of one of the plots from -2 to 2, because the waves will interfere\n",
    "    # and form peaks. Remember that we set the sharey already in the image, so we don't have to worry about\n",
    "    # setting this on each axes object\n",
    "    axs[2].set_ylim(-2,2)\n",
    "    \n",
    "    # The next bit of code just renders the figure, then copies it from the figure canvas (the rendered part)\n",
    "    # as an ndarray of bytes and into a PIL image. The PIL function frombytes() will read a set of bytes and\n",
    "    # turn that into a PIL image object\n",
    "    canvas=plt.get_current_fig_manager().canvas\n",
    "    canvas.draw()\n",
    "    ims.append(PIL.Image.frombytes('RGB', canvas.get_width_height(), canvas.tostring_rgb()))\n",
    "    \n",
    "    # Now we can free up the memory from the plot\n",
    "    plt.close()\n",
    "    \n",
    "# The final step is to save our image list into a single file. We can do this by taking the first image in the\n",
    "# list and calling save with the save_all parameter equal to True, and pass in the rest of the images we want\n",
    "# appended\n",
    "ims[0].save('out.gif', save_all=True, append_images=ims[1:])"
   ]
  },
  {
   "cell_type": "markdown",
   "metadata": {},
   "source": [
    "So, depending upon how many images you decided to generate that might take a little bit to run. The result\n",
    "is that we have an image on the file system called \"out.gif\". We can now decide to render it inline in a\n",
    "markdown cell, like this:\n",
    "\n",
    "![](out.gif)"
   ]
  },
  {
   "cell_type": "code",
   "execution_count": null,
   "metadata": {},
   "outputs": [],
   "source": [
    "# And of course, you can just head to the jupyter filesystem by clicking the logo in the upper left and\n",
    "# navigate until you find that image too, and look at it in the browser or even download it"
   ]
  },
  {
   "cell_type": "markdown",
   "metadata": {},
   "source": [
    "## SPLOMS\n",
    "\n",
    "So, we now understand why there are abstractions of Axes in a figure, because a figure might have several\n",
    "Axes objects which show multiple views of data. A common data science visual exploration technique is called\n",
    "the SPLOM, which stands for scatterplot matrices. These are particularly useful for getting the relationship\n",
    "between a number of different variables from a quick glance. For this example, I want to load in a dataframe\n",
    "of information regarding people's credit card balance information and explore that."
   ]
  },
  {
   "cell_type": "code",
   "execution_count": null,
   "metadata": {},
   "outputs": [],
   "source": [
    "# Let's bring in pandas and load our DataFrame\n",
    "import pandas as pd\n",
    "df = pd.read_csv(\"assets/Credit.csv\")\n",
    "df.head()"
   ]
  },
  {
   "cell_type": "markdown",
   "metadata": {},
   "source": [
    "We're only going to be looking at a subset of this data set. Specifically, we're interested in exploring\n",
    "relationships between people's\n",
    "\n",
    "- Income (in units of 10,000 US dollars) \n",
    "- Rating (credit rating) \n",
    "- Age (age in years) \n",
    "- Education (number of years of education) \n",
    "- Balance (average credit card balance in USD)\n",
    "\n",
    "But in case you're curious, the descriptions for all of these variables can be found at the link I've listed\n",
    "below\n",
    "\n",
    "https://vincentarelbundock.github.io/Rdatasets/doc/ISLR/Credit.html"
   ]
  },
  {
   "cell_type": "code",
   "execution_count": null,
   "metadata": {},
   "outputs": [],
   "source": [
    "# Let's first capture a list of the variables we are interested in\n",
    "cols = ['Income', 'Rating', 'Age', 'Education', 'Balance']\n",
    "\n",
    "# Now we need to create a grid of subplots of size width and height equal to the number of different variables\n",
    "# we want to explore, in this case that's a 5x5 grid\n",
    "fig, axs = plt.subplots(len(cols), len(cols), figsize=(10,10))\n",
    "\n",
    "# Now we want to iterate across each column in our dataframe and compare it to each other column in our\n",
    "# DataFrame. We'll do this with a couple of nested for loops\n",
    "for i in range(len(cols)):\n",
    "    for j in range(len(cols)):\n",
    "        # Now we just want to plot a scatter plot comparing the columns i and j. Sometimes this will be the\n",
    "        # same column, so we would expect to see a diagnol line trend. I'm going to set the marker size to 5\n",
    "        # just to make things a bit more clear\n",
    "        axs[i,j].scatter(df[cols[j]], df[cols[i]], s=5)\n",
    "\n",
    "        # Also, we've seen that when we plot multiple Axes things get cluttered with Axis tickmarks and\n",
    "        # labels, so let's turn those off\n",
    "        axs[i,j].get_xaxis().set_visible(False)\n",
    "        axs[i,j].get_yaxis().set_visible(False)\n",
    "\n",
    "        # Then we'll turn them back on only if we are the last row...\n",
    "        if i == len(cols) - 1:\n",
    "            axs[i,j].get_xaxis().set_visible(True)\n",
    "            axs[i,j].set_xlabel(cols[j])\n",
    "            \n",
    "        # ...and similarly, only show the y-axis labels for the first column.\n",
    "        if j == 0:\n",
    "            axs[i,j].get_yaxis().set_visible(True)\n",
    "            axs[i,j].set_ylabel(cols[i])\n",
    "\n",
    "# Now let's take a look at our data!"
   ]
  },
  {
   "cell_type": "markdown",
   "metadata": {},
   "source": [
    "Ok, this takes a bit to run, but we can see that there is quite a bit of information contained in this\n",
    "compact figure! For the most part, many of the variables seem to be uncorrelated. For instance, there does\n",
    "not seem to be any relationship between age (which we can see in the third row) and education (which is the\n",
    "fourth column) as there are points all over the space. However, there does seem to be a relationship between\n",
    "one's credit rating (the second row from the top) and income (the first column) in that there is a large\n",
    "positive trend. Do you see any other interesting trends in this data?"
   ]
  },
  {
   "cell_type": "markdown",
   "metadata": {},
   "source": [
    "Now, there was a lot we had to do here to build this SPLOM, but it turns out this is a very useful visual\n",
    "exploration technique, and a lot of libraries can make it much easier. In fact, in the next video, Nia\n",
    "Dowell  will demonstrate how to explore this kind of data much faster using the Seaborn library. And, it's\n",
    "often convenient to do a quick google and grab the library that seems to look like it answers the question\n",
    "you have quickly. And there's nothing wrong with that! But sometimes you need to understand the mechanics\n",
    "underneath, such as when you want to build a custom visualization or when you need to tweak output in a\n",
    "specific way. So my goal in showing you how to build a SPLOM by hand is to build your confidence that you\n",
    "can work with a broad range of tools as the situation arises."
   ]
  }
 ],
 "metadata": {
  "kernelspec": {
   "display_name": "Python 3",
   "language": "python",
   "name": "python3"
  },
  "language_info": {
   "codemirror_mode": {
    "name": "ipython",
    "version": 3
   },
   "file_extension": ".py",
   "mimetype": "text/x-python",
   "name": "python",
   "nbconvert_exporter": "python",
   "pygments_lexer": "ipython3",
   "version": "3.7.3"
  }
 },
 "nbformat": 4,
 "nbformat_minor": 4
}
