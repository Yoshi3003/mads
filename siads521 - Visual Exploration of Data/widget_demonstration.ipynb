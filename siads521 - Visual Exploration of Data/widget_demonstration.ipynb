{
 "cells": [
  {
   "cell_type": "markdown",
   "metadata": {},
   "source": [
    "# Widget Demonstration\n",
    "This is a short demonstration of the Jupyter widget functionality from office hours. Jupyter widgets allow you to add interactivity to your notebooks, and you can read more about the Jupyter widgets here: https://ipywidgets.readthedocs.io/en/latest/"
   ]
  },
  {
   "cell_type": "code",
   "execution_count": null,
   "metadata": {},
   "outputs": [],
   "source": [
    "# We'll be using the interact functionality as an annotation, as well as exploring a few of the specific kinds\n",
    "# of widgets available\n",
    "from ipywidgets import interact\n",
    "import ipywidgets as widgets\n",
    "\n",
    "# We'll do this on a small dataset of my biking data\n",
    "import pandas as pd\n",
    "import matplotlib.pyplot as plt\n",
    "\n",
    "df=pd.read_csv(\"assets/wipeout.csv\")\n",
    "df=df.set_index(pd.to_datetime(df[\"timestamp\"]))\n",
    "df.head()"
   ]
  },
  {
   "cell_type": "code",
   "execution_count": null,
   "metadata": {},
   "outputs": [],
   "source": [
    "%matplotlib inline\n",
    "\n",
    "# New changes require explicit registration of converters\n",
    "from pandas.plotting import register_matplotlib_converters\n",
    "register_matplotlib_converters()\n",
    "    \n",
    "potential_columns=[]\n",
    "for col in df.columns:\n",
    "    if df[col].dtype != \"object\":\n",
    "        potential_columns.append(col)\n",
    "\n",
    "@interact(col_names=\n",
    "widgets.SelectMultiple(\n",
    "    options=potential_columns,\n",
    "    value=(potential_columns[0],),\n",
    "    description='Columns'))\n",
    "def plot_data(col_names):\n",
    "    plt.figure(figsize=[12,8])\n",
    "    plt.gcf().suptitle(str(col_names))\n",
    "    if len(col_names) ==2:\n",
    "        plt.plot(df[list(col_names)[0]],'b')\n",
    "        ax=plt.twinx()\n",
    "        ax.plot(df[list(col_names)[1]],'r')\n",
    "    else:\n",
    "        plt.plot(df[list(col_names)])"
   ]
  },
  {
   "cell_type": "code",
   "execution_count": null,
   "metadata": {},
   "outputs": [],
   "source": [
    "%matplotlib inline\n",
    "\n",
    "@interact(heart_rate_bounds=widgets.IntRangeSlider(\n",
    "    value=[80, 100],\n",
    "    min=0,\n",
    "    max=180,\n",
    "    step=1,\n",
    "    description='HR Range:',\n",
    "    continuous_update=False,\n",
    "    readout_format='d',),\n",
    "    start=widgets.Text(\n",
    "    value=str(df.index[0]),\n",
    "    description='Start Time:'),\n",
    "    end=widgets.Text(\n",
    "    value=str(df.index[-1]),\n",
    "    description='End Time:'))\n",
    "\n",
    "def plot_hr(heart_rate_bounds, start, end):\n",
    "    plt.figure(figsize=[12,8])\n",
    "    \n",
    "    plt.xlim(left=df.index[0],right=df.index[-1])\n",
    "    plt.ylim(0,max(df[\"heart_rate\"]))\n",
    "    \n",
    "    ndf=df[(df[\"heart_rate\"]>heart_rate_bounds[0]) & \n",
    "           (df[\"heart_rate\"]<heart_rate_bounds[1]) & \n",
    "           (df.index>start) & (df.index<end)]\n",
    "    plt.scatter(ndf.index,ndf[\"heart_rate\"])"
   ]
  },
  {
   "cell_type": "code",
   "execution_count": null,
   "metadata": {},
   "outputs": [],
   "source": [
    "#@interact(heart_rate_min=0, heart_rate_max=180)\n",
    "\n",
    "    \n",
    "# def f(x):\n",
    "#     print(x)\n",
    "\n",
    "#interact(f, x=widgets.IntSlider(min=-0, max=180, step=1, value=10));\n",
    "# interact(f, x=widgets.IntSlider(min=-10, max=30, step=1, value=10));"
   ]
  },
  {
   "cell_type": "code",
   "execution_count": null,
   "metadata": {},
   "outputs": [],
   "source": [
    "#from ipywidgets import interact, interactive, fixed, interact_manual\n",
    "#import ipywidgets as widgets\n",
    "import pandas as pd\n",
    "df=pd.read_csv(\"assets/wipeout.csv\")\n",
    "df.head()\n",
    "\n",
    "\n",
    "import folium\n",
    "m=folium.Map()\n",
    "# fit the map viewport to our data\n",
    "m.fit_bounds([[min(df[\"position_lat_degrees\"]),min(df[\"position_long_degrees\"])],\n",
    "            [max(df[\"position_lat_degrees\"]),max(df[\"position_long_degrees\"])]])\n",
    "\n",
    "def render(row):\n",
    "    folium.Circle(location=(row[\"position_lat_degrees\"],row[\"position_long_degrees\"]), radius=10, fill=True, \n",
    "                  stroke=False, fillOpacity=1).add_to(m)\n",
    "df.apply(render, axis=1)\n",
    "display(m)"
   ]
  },
  {
   "cell_type": "markdown",
   "metadata": {},
   "source": [
    "this is some text."
   ]
  }
 ],
 "metadata": {
  "kernelspec": {
   "display_name": "Python 3",
   "language": "python",
   "name": "python3"
  },
  "language_info": {
   "codemirror_mode": {
    "name": "ipython",
    "version": 3
   },
   "file_extension": ".py",
   "mimetype": "text/x-python",
   "name": "python",
   "nbconvert_exporter": "python",
   "pygments_lexer": "ipython3",
   "version": "3.7.3"
  }
 },
 "nbformat": 4,
 "nbformat_minor": 4
}
