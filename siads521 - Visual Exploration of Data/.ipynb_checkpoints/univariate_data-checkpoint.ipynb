{
 "cells": [
  {
   "cell_type": "code",
   "execution_count": 1,
   "metadata": {},
   "outputs": [
    {
     "name": "stdout",
     "output_type": "stream",
     "text": [
      "   sepal_length  sepal_width  petal_length  petal_width species\n",
      "0           5.1          3.5           1.4          0.2  setosa\n",
      "1           4.9          3.0           1.4          0.2  setosa\n",
      "2           4.7          3.2           1.3          0.2  setosa\n",
      "3           4.6          3.1           1.5          0.2  setosa\n",
      "4           5.0          3.6           1.4          0.2  setosa\n",
      "<class 'pandas.core.frame.DataFrame'>\n",
      "RangeIndex: 150 entries, 0 to 149\n",
      "Data columns (total 5 columns):\n",
      " #   Column        Non-Null Count  Dtype  \n",
      "---  ------        --------------  -----  \n",
      " 0   sepal_length  150 non-null    float64\n",
      " 1   sepal_width   150 non-null    float64\n",
      " 2   petal_length  150 non-null    float64\n",
      " 3   petal_width   150 non-null    float64\n",
      " 4   species       150 non-null    object \n",
      "dtypes: float64(4), object(1)\n",
      "memory usage: 6.0+ KB\n"
     ]
    }
   ],
   "source": [
    "# Import the pandas and numpy library\n",
    "import pandas as pd\n",
    "import numpy as np\n",
    "\n",
    "# Load the iris.csv dataset\n",
    "iris = pd.read_csv('assets/iris.csv')\n",
    "\n",
    "# Look at the first 5 rows\n",
    "print(iris.head())\n",
    "\n",
    "#info method to print information about the data frame including the index dtype and column dtypes, \n",
    "#and non-null values \n",
    "iris.info()"
   ]
  },
  {
   "cell_type": "code",
   "execution_count": null,
   "metadata": {},
   "outputs": [],
   "source": [
    "# Just the mean for one variable\n",
    "iris['sepal_length'].mean()"
   ]
  },
  {
   "cell_type": "code",
   "execution_count": null,
   "metadata": {},
   "outputs": [],
   "source": [
    "# Just the standard deviation for one variable\n",
    "iris['sepal_length'].std()"
   ]
  },
  {
   "cell_type": "code",
   "execution_count": null,
   "metadata": {},
   "outputs": [],
   "source": [
    "#However, when exploring our data we usually want to know a bit more about it. So, let’s use Pandas describe function\n",
    "#to calculate  the mean, standard deviation and interquartile range IQR values for sepal_length. \n",
    "\n",
    "iris['sepal_length'].describe()"
   ]
  },
  {
   "cell_type": "code",
   "execution_count": null,
   "metadata": {},
   "outputs": [],
   "source": [
    "#We can call the .describe function on the iris data, and it will exclude the character columns and provide summary \n",
    "#statistics of numeric columns. \n",
    "\n",
    "iris.describe()"
   ]
  },
  {
   "cell_type": "code",
   "execution_count": null,
   "metadata": {},
   "outputs": [],
   "source": [
    "# summary statistics of character column\n",
    " \n",
    "iris.describe(include='all')"
   ]
  },
  {
   "cell_type": "code",
   "execution_count": null,
   "metadata": {},
   "outputs": [],
   "source": [
    "# Get the mean of the petal length per group \n",
    "iris.groupby('species')['petal_length'].mean()\n"
   ]
  },
  {
   "cell_type": "code",
   "execution_count": null,
   "metadata": {},
   "outputs": [],
   "source": [
    "#explore summary statistics by each group\n",
    "iris.groupby('species').describe()"
   ]
  },
  {
   "cell_type": "code",
   "execution_count": null,
   "metadata": {},
   "outputs": [],
   "source": [
    "import matplotlib as mpl\n",
    "mpl.get_backend()\n",
    "\n",
    "import matplotlib.pyplot as plt"
   ]
  },
  {
   "cell_type": "code",
   "execution_count": null,
   "metadata": {},
   "outputs": [],
   "source": [
    "# Calculate the mean\n",
    "sepal_length_mean = iris['sepal_length'].mean()\n",
    "petal_length_mean = iris['petal_length'].mean()\n",
    "petal_width_mean = iris['petal_width'].mean()\n",
    "sepal_width_mean = iris['sepal_width'].mean()\n",
    "\n",
    "# Calculate the STD\n",
    "sepal_lengthstd = iris['sepal_length'].std()\n",
    "petal_lengthstd = iris['petal_length'].std()\n",
    "petal_widthstd = iris['petal_width'].std()\n",
    "sepal_widthstd = iris['sepal_width'].std()"
   ]
  },
  {
   "cell_type": "code",
   "execution_count": null,
   "metadata": {},
   "outputs": [],
   "source": [
    "# Build a bar plot\n",
    "plt.bar(['sepal_length', 'petal_length', 'petal_width', 'sepal_width'],[sepal_length_mean, petal_length_mean,petal_width_mean ,sepal_width_mean])\n",
    "plt.show()"
   ]
  },
  {
   "cell_type": "code",
   "execution_count": null,
   "metadata": {},
   "outputs": [],
   "source": [
    "iris_mean =iris.groupby('species').mean()\n",
    "iris_mean"
   ]
  },
  {
   "cell_type": "code",
   "execution_count": null,
   "metadata": {},
   "outputs": [],
   "source": [
    "iris_std =iris.groupby('species').std()\n",
    "iris_std"
   ]
  },
  {
   "cell_type": "code",
   "execution_count": null,
   "metadata": {},
   "outputs": [],
   "source": [
    "n_groups = 4\n",
    "\n",
    "means_setosa = (5.006, 3.428, 1.462, 0.246)\n",
    "std_setosa= (0.352490, 0.379064, 0.173664, 0.10538)\n",
    "\n",
    "means_versicolor = (5.936, 2.770,4.260,1.326)\n",
    "std_versicolor= (0.516171, 0.313798,0.469911,0.197753)\n",
    "\n",
    "means_virginica = (6.588, 2.974, 5.552, 2.026)\n",
    "std_virginica= (0.635880, 0.322497, 0.551895, 0.274650)\n",
    "\n",
    "fig, ax = plt.subplots()\n",
    "\n",
    "index = np.arange(n_groups) # the x locations for the groups\n",
    "bar_width = 0.25 # the width of the bars\n",
    "\n",
    "opacity = 0.4\n",
    "error_config = {'ecolor': '0.3'} # and error bars\n",
    "\n",
    "rects1 = ax.bar(index, means_setosa, bar_width,\n",
    "                alpha=opacity, color='b',\n",
    "                yerr=std_setosa, error_kw=error_config,\n",
    "                label='Setosa')\n",
    "\n",
    "rects2 = ax.bar(index + bar_width, means_versicolor, bar_width,\n",
    "                alpha=opacity, color='r',\n",
    "                yerr=std_versicolor, error_kw=error_config,\n",
    "                label='Versicolor')\n",
    "\n",
    "rects3 = ax.bar(index + bar_width + bar_width, means_virginica, bar_width,\n",
    "                alpha=opacity, color='c',\n",
    "                yerr=std_virginica, error_kw=error_config,\n",
    "                label='Virginica')\n",
    "\n",
    "#After creating the plot we can add information to plot to make it more readable. \n",
    "#So, our final step is to add some text for labels, title and axes ticks.\n",
    "# add usful information\n",
    "ax.set_xlabel('Variable')\n",
    "ax.set_ylabel('Means')\n",
    "ax.set_title('Means by variable and species')\n",
    "ax.set_xticks(index + bar_width / 3)\n",
    "ax.set_xticklabels(('sepal length', 'sepal width', 'petal length', 'petal width'))\n",
    "ax.legend()\n",
    "\n",
    "fig.tight_layout()\n",
    "plt.show()"
   ]
  }
 ],
 "metadata": {
  "kernelspec": {
   "display_name": "Python 3",
   "language": "python",
   "name": "python3"
  },
  "language_info": {
   "codemirror_mode": {
    "name": "ipython",
    "version": 3
   },
   "file_extension": ".py",
   "mimetype": "text/x-python",
   "name": "python",
   "nbconvert_exporter": "python",
   "pygments_lexer": "ipython3",
   "version": "3.7.9"
  }
 },
 "nbformat": 4,
 "nbformat_minor": 4
}
