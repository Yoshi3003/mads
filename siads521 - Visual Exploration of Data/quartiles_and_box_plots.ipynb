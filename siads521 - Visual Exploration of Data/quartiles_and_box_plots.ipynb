{
 "cells": [
  {
   "cell_type": "code",
   "execution_count": null,
   "metadata": {},
   "outputs": [],
   "source": [
    "# Import the pandas and numpy library\n",
    "import pandas as pd\n",
    "import matplotlib as mpl\n",
    "mpl.get_backend()\n",
    "\n",
    "import matplotlib.pyplot as plt\n",
    "\n",
    "# Load the iris.csv dataset\n",
    "iris = pd.read_csv('assets/iris.csv')\n",
    "\n",
    "# Look at the first 5 rows\n",
    "print(iris.head())"
   ]
  },
  {
   "cell_type": "code",
   "execution_count": null,
   "metadata": {},
   "outputs": [],
   "source": [
    "#We can use pandas .quartile method to calculate 3 quartiles, the lower 25%, 50%, \n",
    "#and upper 25% for the sepal_length variable.\n",
    "\n",
    "iris['sepal_length'].quantile([.25, .5, .75])"
   ]
  },
  {
   "cell_type": "code",
   "execution_count": null,
   "metadata": {},
   "outputs": [],
   "source": [
    "# basic plot\n",
    "plt.boxplot(iris['sepal_length'])\n",
    "plt.show()"
   ]
  },
  {
   "cell_type": "code",
   "execution_count": null,
   "metadata": {},
   "outputs": [],
   "source": [
    "#We can confirm all of these numbers by using the .describe function.\n",
    "\n",
    "iris['sepal_length'].describe()"
   ]
  },
  {
   "cell_type": "code",
   "execution_count": null,
   "metadata": {},
   "outputs": [],
   "source": [
    "#We can also control the appearance and add statistics, like the mean, by adjusting the parameters.\n",
    "\n",
    "#As I said, the line inside the box represents the median value, but we can also plot a marker for the mean using \n",
    "#the additional parameter called “showmeans”=TRUE, and change the plot to horizonal using “vert”= False.\n",
    "\n",
    "plt.boxplot(iris['sepal_length'],showmeans=True, vert = False)\n",
    "plt.show()"
   ]
  },
  {
   "cell_type": "code",
   "execution_count": null,
   "metadata": {},
   "outputs": [],
   "source": [
    "irisvars=[iris['sepal_length'], iris['sepal_width'],iris['petal_width'], iris['petal_length']]\n",
    "box = plt.boxplot(irisvars, showmeans=True)"
   ]
  },
  {
   "cell_type": "code",
   "execution_count": null,
   "metadata": {},
   "outputs": [],
   "source": [
    "#Each boxplot can have its own colours, this can be set through the pyplot function setp():\n",
    "box = plt.boxplot(irisvars, showmeans=True)\n",
    "# add colours\n",
    "   # sepal_length = red\n",
    "plt.setp(box['boxes'][0], color='red')\n",
    "plt.setp(box['caps'][0], color='red')\n",
    "plt.setp(box['whiskers'][0], color='red')"
   ]
  },
  {
   "cell_type": "code",
   "execution_count": null,
   "metadata": {},
   "outputs": [],
   "source": [
    "box = plt.boxplot(irisvars, showmeans=True)\n",
    "\n",
    "\n",
    "\n",
    "plt.title('Iris Dataset', fontsize=18) # chart title\n",
    "plt.ylabel('width and length') # y axis title\n",
    "plt.xticks([1,2,3, 4], ['sepal_length','sepal_width','petal_width','petal_length']) # x axis labels"
   ]
  },
  {
   "cell_type": "code",
   "execution_count": null,
   "metadata": {},
   "outputs": [],
   "source": [
    "#The matplotlib boxplot looks okay for a for first pass analysis. \n",
    "#Before we end the tutorial, let’s take a sneak peek at plotting with the seaborn library. Let us say we want to plot a boxplot of sepal length by iris type, we would use pandas like\n",
    "\n",
    "#To make basic boxplot with Seaborn, we can use the pandas data frame as input and use Seaborn’s boxplot function. In addition to the data, we can also specify multiple options to customize the boxplot with Seaborn. \n",
    "#Let’s choose color palette scheme for the boxplot with Seaborn. Here, we have chosen colorblind friendly palette “colorblind”. Other color palette options available in Seaborn include deep, muted, bright, pastel, and dark. Let us also specify the width of the boxes in boxplot.\n",
    "\n",
    "# import seaborn\n",
    "import seaborn as sns\n",
    "\n",
    "seaplot = sns.boxplot(y='sepal_length', x='species', \n",
    "                 data=iris, \n",
    "                 width=0.5,\n",
    "                 palette=\"colorblind\")\n"
   ]
  },
  {
   "cell_type": "code",
   "execution_count": null,
   "metadata": {},
   "outputs": [],
   "source": [
    "# output file name\n",
    "plot_file_name=\"boxplot_with_seaborn.jpg\"\n",
    " \n",
    "# save as jpeg\n",
    "seaplot.figure.savefig(plot_file_name,\n",
    "                    format='jpeg',\n",
    "                    dpi=100)"
   ]
  }
 ],
 "metadata": {
  "kernelspec": {
   "display_name": "Python 3",
   "language": "python",
   "name": "python3"
  },
  "language_info": {
   "codemirror_mode": {
    "name": "ipython",
    "version": 3
   },
   "file_extension": ".py",
   "mimetype": "text/x-python",
   "name": "python",
   "nbconvert_exporter": "python",
   "pygments_lexer": "ipython3",
   "version": "3.7.9"
  }
 },
 "nbformat": 4,
 "nbformat_minor": 4
}
