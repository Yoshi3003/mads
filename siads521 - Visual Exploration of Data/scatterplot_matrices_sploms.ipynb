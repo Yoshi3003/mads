{
 "cells": [
  {
   "cell_type": "code",
   "execution_count": null,
   "metadata": {},
   "outputs": [],
   "source": [
    "#To get started, let's load in the seaborn libaray as sns, pandas, and the iris dataset, and check out\n",
    "#the first 5 rows with the head argument.\n",
    "import seaborn as sns\n",
    "import matplotlib.pyplot as plt\n",
    "import pandas as pd\n",
    "\n",
    "#Load the iris.csv dataset\n",
    "iris = pd.read_csv(\"assets/iris.csv\")\n",
    "\n",
    "#Look at the first 5 rows\n",
    "print(iris.head())\n",
    "#Cool, so we have the 4 numeric variables and 1 categorical veriable for the type"
   ]
  },
  {
   "cell_type": "code",
   "execution_count": null,
   "metadata": {},
   "outputs": [],
   "source": [
    "#Now, if we wanted to just check out a simple example, matplotlib has a built-in function to create\n",
    "#scatterplots called scatter(). A scatter plot is a type of plot that shows the data as a collection of points.\n",
    "#The position of a point depends on its two-dimentional value, where each value is a position on either the\n",
    "#horizontal or vertical dimension.\n",
    "\n",
    "#Let's see this in action, and plot sepal and petal width.\n",
    "\n",
    "#simple scatter with matplotlib\n",
    "plt.scatter(iris['sepal_width'], iris['petal_width'])\n",
    "\n",
    "plt.xlabel(\"sepal_width\")\n",
    "plt.ylabel(\"petal_width\")\n",
    "\n",
    "plt.show()\n",
    "\n",
    "#So that was pretty convenient, and we can easily visualize the relationship here.\n",
    "#But, if we wanted to explore the relationship between all the variables in the dataset at once, this could\n",
    "#get a bit complicated with matplotlib."
   ]
  },
  {
   "cell_type": "code",
   "execution_count": null,
   "metadata": {},
   "outputs": [],
   "source": [
    "#However, using Seaborn it is very simple to create sploms with the pairplot function. In fact, it's just a \n",
    "#single line. You can pass a DataFram with some numerical variables, and what you will get is a scatter plot\n",
    "#matrix:\n",
    "sns.pairplot(iris);\n",
    "#By default, the pairplot function will create a grid of Axes such that each variable in data will be shared in\n",
    "#the y-axis across a single row and in the x-axis across a single column. The diagonal Axes are treated\n",
    "#differently, drawing a plot to show the univariate distribution of the data for the variable in that column.\n",
    "\n",
    "#So, now we see each of the plots is a pairwise relationship between the variables that we have in the dataframe.\n",
    "#These visualizations are usually beat for more than four or five variables at the same time because otherwise\n",
    "#it can get a bit difficult to see the relationship.\n",
    "\n",
    "#Ok, as we can see, we have a very clear positive relationshiip between the pedal width and petal length.\n",
    "#If we look sepal length and sepal width, we see the relationship is still positive, but is not as clear with\n",
    "#the previous one.\n"
   ]
  },
  {
   "cell_type": "code",
   "execution_count": null,
   "metadata": {},
   "outputs": [],
   "source": [
    "#We can specify the same pairplot and add the hue argument and send it the species Variable in data\n",
    "#to map plot aspects to different colors for different flowers\n",
    "sns.pairplot(iris, hue=\"species\");"
   ]
  },
  {
   "cell_type": "code",
   "execution_count": null,
   "metadata": {},
   "outputs": [],
   "source": [
    "#We can also use palette to set the colors for mapping the hue variable.\n",
    "sns.pairplot(iris, hue=\"species\", palette=\"husl\");"
   ]
  },
  {
   "cell_type": "code",
   "execution_count": null,
   "metadata": {},
   "outputs": [],
   "source": [
    "#If we wanted to change the diagonal subplots, we could use the diag_kind argument. For instance, we can change\n",
    "#the current kde subplots to histograms.\n",
    "sns.pairplot(iris, hue=\"species\", diag_kind='hist');"
   ]
  }
 ],
 "metadata": {
  "kernelspec": {
   "display_name": "Python 3",
   "language": "python",
   "name": "python3"
  },
  "language_info": {
   "codemirror_mode": {
    "name": "ipython",
    "version": 3
   },
   "file_extension": ".py",
   "mimetype": "text/x-python",
   "name": "python",
   "nbconvert_exporter": "python",
   "pygments_lexer": "ipython3",
   "version": "3.7.3"
  }
 },
 "nbformat": 4,
 "nbformat_minor": 4
}
